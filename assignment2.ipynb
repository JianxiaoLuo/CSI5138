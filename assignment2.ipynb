{
  "nbformat": 4,
  "nbformat_minor": 0,
  "metadata": {
    "colab": {
      "name": "assignment2.ipynb",
      "provenance": [],
      "collapsed_sections": []
    },
    "kernelspec": {
      "name": "python3",
      "display_name": "Python 3"
    },
    "accelerator": "GPU"
  },
  "cells": [
    {
      "cell_type": "code",
      "metadata": {
        "id": "3DlbikzY56Y8"
      },
      "source": [
        "import torch\n",
        "import torchvision.datasets as dsets\n",
        "from torch.autograd import Variable\n",
        "import torchvision.transforms as transforms\n",
        "import matplotlib.pyplot as plt\n",
        "import seaborn as sns\n",
        "import torchvision\n",
        "import torch.nn.functional as F\n",
        "import numpy as np"
      ],
      "execution_count": 2,
      "outputs": []
    },
    {
      "cell_type": "code",
      "metadata": {
        "id": "OMf0XN2a1Kmb"
      },
      "source": [
        "# Change working directory\n",
        "import os\n",
        "os.chdir('/content/drive/My Drive/UOttawa/2020Fall/CSI5138/assignment2')"
      ],
      "execution_count": 3,
      "outputs": []
    },
    {
      "cell_type": "code",
      "metadata": {
        "id": "C9RYr7hr52nU"
      },
      "source": [
        "# Define the logistic regression\n",
        "class LogisticRegression(torch.nn.Module):\n",
        "    def __init__(self, input_dim, output_dim):\n",
        "        super(LogisticRegression, self).__init__()\n",
        "        self.linear = torch.nn.Linear(input_dim, output_dim)\n",
        "\n",
        "\n",
        "    def forward(self, x):\n",
        "        outputs = self.linear(x)\n",
        "        return outputs"
      ],
      "execution_count": 4,
      "outputs": []
    },
    {
      "cell_type": "code",
      "metadata": {
        "id": "OIInVv-Sz3Yx",
        "outputId": "22376910-16de-4eff-952a-7c11f5fdb05c",
        "colab": {
          "base_uri": "https://localhost:8080/",
          "height": 101
        }
      },
      "source": [
        "# Define a 3 layer MLP 28*28 -> 512 -> 128 -> 10\n",
        "class MLP(torch.nn.Module):\n",
        "  def __init__(self, input_dim, output_dim):\n",
        "    super(MLP, self).__init__()\n",
        "    self.input_dim = input_dim\n",
        "    self.fc1 = torch.nn.Linear(input_dim, 512)\n",
        "    self.fc2 = torch.nn.Linear(512, 128)\n",
        "    self.fc3 = torch.nn.Linear(128, output_dim)\n",
        "  \n",
        "  \n",
        "  def forward(self, x):\n",
        "    x = x.view(-1, self.input_dim)\n",
        "    output = F.relu(self.fc1(x))\n",
        "    output = F.relu(self.fc2(output))\n",
        "    return F.softmax(self.fc3(output))\n",
        "\n",
        "print(MLP(784, 10))"
      ],
      "execution_count": 5,
      "outputs": [
        {
          "output_type": "stream",
          "text": [
            "MLP(\n",
            "  (fc1): Linear(in_features=784, out_features=512, bias=True)\n",
            "  (fc2): Linear(in_features=512, out_features=128, bias=True)\n",
            "  (fc3): Linear(in_features=128, out_features=10, bias=True)\n",
            ")\n"
          ],
          "name": "stdout"
        }
      ]
    },
    {
      "cell_type": "code",
      "metadata": {
        "id": "3UxrXXUa0EOk",
        "outputId": "dafb2346-5f34-4e31-f8e4-57e1edb9ca4c",
        "colab": {
          "base_uri": "https://localhost:8080/",
          "height": 118
        }
      },
      "source": [
        "class Net(torch.nn.Module):\n",
        "  def __init__(self, dataset='mnist'):\n",
        "    super(Net, self).__init__()\n",
        "    self.dataset = dataset\n",
        "    if dataset=='mnist':\n",
        "      self.conv1 = torch.nn.Conv2d(1, 10, 5)\n",
        "      self.fc1 = torch.nn.Linear(320, 50)\n",
        "    else: \n",
        "      self.conv1 = torch.nn.Conv2d(3, 10, 5)\n",
        "      self.fc1 = torch.nn.Linear(500, 50)\n",
        "    self.conv2 = torch.nn.Conv2d(10, 20, 5)\n",
        "\n",
        "    \n",
        "    self.fc2 = torch.nn.Linear(50, 10)\n",
        "  \n",
        "\n",
        "  def forward(self, x):\n",
        "    x = F.relu(F.max_pool2d(self.conv1(x), 2))\n",
        "    x = F.relu(F.max_pool2d(self.conv2(x), 2))\n",
        "    if self.dataset=='mnist':\n",
        "      x = x.view(-1, 320)\n",
        "    else:\n",
        "      x = x.view(-1, 500)\n",
        "    x = F.relu(self.fc1(x))\n",
        "    x = self.fc2(x)\n",
        "    return F.softmax(x)\n",
        "\n",
        "print(Net())"
      ],
      "execution_count": 6,
      "outputs": [
        {
          "output_type": "stream",
          "text": [
            "Net(\n",
            "  (conv1): Conv2d(1, 10, kernel_size=(5, 5), stride=(1, 1))\n",
            "  (fc1): Linear(in_features=320, out_features=50, bias=True)\n",
            "  (conv2): Conv2d(10, 20, kernel_size=(5, 5), stride=(1, 1))\n",
            "  (fc2): Linear(in_features=50, out_features=10, bias=True)\n",
            ")\n"
          ],
          "name": "stdout"
        }
      ]
    },
    {
      "cell_type": "code",
      "metadata": {
        "id": "amWM1G7N2UPX"
      },
      "source": [
        "class play:\n",
        "  def __init__(self, dataset, method):\n",
        "    self.method = method\n",
        "    self.batch_size = 100\n",
        "    self.dataset = dataset\n",
        "    if dataset == 'mnist':\n",
        "      self.load_data_mnist()\n",
        "    else:\n",
        "      self.load_data_cifar()\n",
        "    self.define_constants(method)\n",
        "\n",
        "\n",
        "  def load_data_mnist(self):\n",
        "    # Each image is 28*28, the training set contains 60000 examples, and the test set 10000 examples.\n",
        "    self.train_dataset = dsets.MNIST(root='./MNIST', train=True, transform=transforms.ToTensor(), download=True)\n",
        "    self.test_dataset = dsets.MNIST(root='./MNIST', train=False, transform=transforms.ToTensor())\n",
        "    self.train_loader = torch.utils.data.DataLoader(dataset=self.train_dataset, batch_size=self.batch_size, shuffle=True)\n",
        "    self.test_loader = torch.utils.data.DataLoader(dataset=self.test_dataset, batch_size=self.batch_size, shuffle=False)\n",
        "  \n",
        "\n",
        "  def load_data_cifar(self):\n",
        "    self.train_dataset = torchvision.datasets.CIFAR10(root='./cifar', train=True, transform=transforms.ToTensor(), download=True)\n",
        "    self.test_dataset = torchvision.datasets.CIFAR10(root='./cifar', train=False, transform=transforms.ToTensor(), download=True)\n",
        "    self.train_loader = torch.utils.data.DataLoader(dataset=self.train_dataset, batch_size=self.batch_size, shuffle=True)\n",
        "    self.test_loader = torch.utils.data.DataLoader(dataset=self.test_dataset, batch_size=self.batch_size, shuffle=False)\n",
        "\n",
        "\n",
        "  \n",
        "  def imshow(self):\n",
        "    # get some random training images\n",
        "    dataiter = iter(self.train_loader)\n",
        "    images, labels = dataiter.next()\n",
        "\n",
        "    img = torchvision.utils.make_grid(images) / 2 + 0.5     # unnormalize\n",
        "    print(type(img))\n",
        "    print(img.shape)\n",
        "    img = img[0:4]\n",
        "    npimg = img.numpy()\n",
        "    plt.imshow(np.transpose(npimg, (1, 2, 0)))\n",
        "    plt.show()\n",
        "\n",
        "    # print labels\n",
        "    print(' '.join('%5s' % labels[j].item() for j in range(4)))\n",
        "\n",
        "\n",
        "  def define_constants(self, method):\n",
        "    #Define constants\n",
        "    if self.dataset == 'mnist':\n",
        "      self.input_dim = 784\n",
        "    else: self.input_dim = 3072\n",
        "\n",
        "    self.output_dim = 10\n",
        "    if method == 'lr':\n",
        "      self.n_iters = 3000\n",
        "      self.epochs = 5\n",
        "      lr_rate = 0.001\n",
        "      self.model = LogisticRegression(self.input_dim, self.output_dim).cuda()\n",
        "    elif method == 'mlp':\n",
        "      self.n_iters = 3000\n",
        "      self.epochs = 8\n",
        "      lr_rate = 0.1\n",
        "      self.model = MLP(self.input_dim, self.output_dim).cuda\n",
        "    elif method == 'cnn':\n",
        "      self.n_iters = 3000\n",
        "      self.epochs = 10\n",
        "      lr_rate = 0.1\n",
        "      self.model = Net(self.method).cuda()\n",
        "    self.criterion = torch.nn.CrossEntropyLoss() # computes softmax and then the cross entropy\n",
        "    self.optimizer = torch.optim.SGD(self.model.parameters(), lr=lr_rate)\n",
        "\n",
        "  \n",
        "  def train(self):\n",
        "    iter = 0\n",
        "    l = []\n",
        "    a = []\n",
        "    for epoch in range(int(self.epochs)):\n",
        "        l_temp = []\n",
        "        for i, (images, labels) in enumerate(self.train_loader):\n",
        "            if not self.method == 'cnn':\n",
        "              images = Variable(images.view(-1, self.input_dim))\n",
        "            labels = Variable(labels)\n",
        "\n",
        "            self.optimizer.zero_grad()\n",
        "            outputs = self.model(images)\n",
        "            loss = self.criterion(outputs, labels)\n",
        "            loss.backward()\n",
        "            self.optimizer.step()\n",
        "            l_temp.append(loss.item())\n",
        "\n",
        "            iter+=1\n",
        "            if iter%100==0:\n",
        "                # calculate Accuracy\n",
        "                correct = 0\n",
        "                total = 0\n",
        "                for images, labels in self.test_loader:\n",
        "                    if not self.method == 'cnn':\n",
        "                      images = Variable(images.view(-1, self.input_dim))\n",
        "                    outputs = self.model(images)\n",
        "                    _, predicted = torch.max(outputs.data, 1)\n",
        "                    total+= labels.size(0)\n",
        "                    # for gpu, bring the predicted and labels back to cpu fro python operations to work\n",
        "                    correct+= (predicted == labels).sum()\n",
        "                accuracy = 100 * correct//total\n",
        "                a.append(accuracy.item())\n",
        "                print(\"Iteration: {}. Loss: {}. Accuracy: {}.\".format(iter, loss.item(), accuracy))\n",
        "        l.append(sum(l_temp)/len(l_temp))\n",
        "    fig, ax = plt.subplots()\n",
        "    sns.lineplot(x=range(len(l)), y=l, color='blue', label = 'Loss', ax=ax)\n",
        "    plt.title(\"Loss of {}\".format(self.method))\n",
        "    plt.xlabel(\"iterate\")\n",
        "    plt.ylabel(\"Loss\")  \n",
        "        \n",
        "    fig, ax = plt.subplots()\n",
        "    sns.lineplot(x=range(len(a)), y=a, color='blue', label = 'Accuracy', ax=ax)\n",
        "    plt.title(\"Accuracy of {}\".format(self.method))\n",
        "    plt.xlabel(\"iteration(*100)\")\n",
        "    plt.ylabel(\"Accuracy\")\n",
        "  \n",
        "\n",
        "  "
      ],
      "execution_count": 11,
      "outputs": []
    },
    {
      "cell_type": "code",
      "metadata": {
        "id": "i04INvcDMQ3d",
        "outputId": "029eff0f-ddc1-473d-ad5d-e7476fdeeed0",
        "colab": {
          "base_uri": "https://localhost:8080/",
          "height": 1000
        }
      },
      "source": [
        "mn = play(dataset='cifar', method='cnn')\n",
        "mn.train()"
      ],
      "execution_count": 66,
      "outputs": [
        {
          "output_type": "stream",
          "text": [
            "Files already downloaded and verified\n",
            "Files already downloaded and verified\n"
          ],
          "name": "stdout"
        },
        {
          "output_type": "stream",
          "text": [
            "/usr/local/lib/python3.6/dist-packages/ipykernel_launcher.py:26: UserWarning: Implicit dimension choice for softmax has been deprecated. Change the call to include dim=X as an argument.\n"
          ],
          "name": "stderr"
        },
        {
          "output_type": "stream",
          "text": [
            "Iteration: 100. Loss: 2.303248882293701. Accuracy: 10.\n",
            "Iteration: 200. Loss: 2.3013687133789062. Accuracy: 10.\n",
            "Iteration: 300. Loss: 2.301907539367676. Accuracy: 10.\n",
            "Iteration: 400. Loss: 2.301685094833374. Accuracy: 10.\n",
            "Iteration: 500. Loss: 2.3021600246429443. Accuracy: 10.\n",
            "Iteration: 600. Loss: 2.3025870323181152. Accuracy: 10.\n",
            "Iteration: 700. Loss: 2.2990164756774902. Accuracy: 14.\n",
            "Iteration: 800. Loss: 2.296938419342041. Accuracy: 14.\n",
            "Iteration: 900. Loss: 2.281623601913452. Accuracy: 14.\n",
            "Iteration: 1000. Loss: 2.254582643508911. Accuracy: 15.\n",
            "Iteration: 1100. Loss: 2.2736761569976807. Accuracy: 18.\n",
            "Iteration: 1200. Loss: 2.276937961578369. Accuracy: 18.\n",
            "Iteration: 1300. Loss: 2.2421250343322754. Accuracy: 18.\n",
            "Iteration: 1400. Loss: 2.224062442779541. Accuracy: 22.\n",
            "Iteration: 1500. Loss: 2.192523241043091. Accuracy: 23.\n",
            "Iteration: 1600. Loss: 2.195788621902466. Accuracy: 27.\n",
            "Iteration: 1700. Loss: 2.1342129707336426. Accuracy: 27.\n",
            "Iteration: 1800. Loss: 2.1423392295837402. Accuracy: 30.\n",
            "Iteration: 1900. Loss: 2.2051241397857666. Accuracy: 30.\n",
            "Iteration: 2000. Loss: 2.1693508625030518. Accuracy: 32.\n",
            "Iteration: 2100. Loss: 2.0995125770568848. Accuracy: 33.\n",
            "Iteration: 2200. Loss: 2.115607500076294. Accuracy: 33.\n",
            "Iteration: 2300. Loss: 2.1216113567352295. Accuracy: 34.\n",
            "Iteration: 2400. Loss: 2.145811080932617. Accuracy: 34.\n",
            "Iteration: 2500. Loss: 2.107412815093994. Accuracy: 35.\n",
            "Iteration: 2600. Loss: 2.0777084827423096. Accuracy: 34.\n",
            "Iteration: 2700. Loss: 2.049962043762207. Accuracy: 36.\n",
            "Iteration: 2800. Loss: 2.0309858322143555. Accuracy: 36.\n",
            "Iteration: 2900. Loss: 2.0739989280700684. Accuracy: 36.\n",
            "Iteration: 3000. Loss: 2.1384527683258057. Accuracy: 37.\n",
            "Iteration: 3100. Loss: 2.1281638145446777. Accuracy: 38.\n",
            "Iteration: 3200. Loss: 2.097156286239624. Accuracy: 40.\n",
            "Iteration: 3300. Loss: 2.205355167388916. Accuracy: 39.\n",
            "Iteration: 3400. Loss: 2.06325364112854. Accuracy: 38.\n",
            "Iteration: 3500. Loss: 2.085139513015747. Accuracy: 40.\n",
            "Iteration: 3600. Loss: 2.047968626022339. Accuracy: 41.\n",
            "Iteration: 3700. Loss: 2.039626359939575. Accuracy: 42.\n",
            "Iteration: 3800. Loss: 2.0884087085723877. Accuracy: 42.\n",
            "Iteration: 3900. Loss: 2.029606580734253. Accuracy: 42.\n",
            "Iteration: 4000. Loss: 1.9595239162445068. Accuracy: 41.\n",
            "Iteration: 4100. Loss: 1.929726004600525. Accuracy: 39.\n",
            "Iteration: 4200. Loss: 1.9942314624786377. Accuracy: 40.\n",
            "Iteration: 4300. Loss: 1.9663859605789185. Accuracy: 44.\n",
            "Iteration: 4400. Loss: 1.8987252712249756. Accuracy: 43.\n",
            "Iteration: 4500. Loss: 2.06857967376709. Accuracy: 44.\n",
            "Iteration: 4600. Loss: 1.9884474277496338. Accuracy: 45.\n",
            "Iteration: 4700. Loss: 2.0239155292510986. Accuracy: 44.\n",
            "Iteration: 4800. Loss: 1.9932382106781006. Accuracy: 46.\n",
            "Iteration: 4900. Loss: 2.0251221656799316. Accuracy: 46.\n",
            "Iteration: 5000. Loss: 2.0052096843719482. Accuracy: 42.\n"
          ],
          "name": "stdout"
        },
        {
          "output_type": "display_data",
          "data": {
            "image/png": "[encoded data removed]",
            "text/plain": [
              "<Figure size 432x288 with 1 Axes>"
            ]
          },
          "metadata": {
            "tags": [],
            "needs_background": "light"
          }
        },
        {
          "output_type": "display_data",
          "data": {
            "image/png": "[encoded data removed]",
            "text/plain": [
              "<Figure size 432x288 with 1 Axes>"
            ]
          },
          "metadata": {
            "tags": [],
            "needs_background": "light"
          }
        }
      ]
    },
    {
      "cell_type": "code",
      "metadata": {
        "id": "uWDzKcbEa6No",
        "outputId": "726e9966-678f-4cce-bc29-915ff635a8da",
        "colab": {
          "base_uri": "https://localhost:8080/",
          "height": 358
        }
      },
      "source": [
        "mn = play(dataset='cifar', method='lr')\n",
        "mn.train()"
      ],
      "execution_count": 13,
      "outputs": [
        {
          "output_type": "stream",
          "text": [
            "Files already downloaded and verified\n",
            "Files already downloaded and verified\n"
          ],
          "name": "stdout"
        },
        {
          "output_type": "error",
          "ename": "RuntimeError",
          "evalue": "ignored",
          "traceback": [
            "\u001b[0;31m---------------------------------------------------------------------------\u001b[0m",
            "\u001b[0;31mRuntimeError\u001b[0m                              Traceback (most recent call last)",
            "\u001b[0;32m<ipython-input-13-2b636a3a7561>\u001b[0m in \u001b[0;36m<module>\u001b[0;34m()\u001b[0m\n\u001b[0;32m----> 1\u001b[0;31m \u001b[0mmn\u001b[0m \u001b[0;34m=\u001b[0m \u001b[0mplay\u001b[0m\u001b[0;34m(\u001b[0m\u001b[0mdataset\u001b[0m\u001b[0;34m=\u001b[0m\u001b[0;34m'cifar'\u001b[0m\u001b[0;34m,\u001b[0m \u001b[0mmethod\u001b[0m\u001b[0;34m=\u001b[0m\u001b[0;34m'lr'\u001b[0m\u001b[0;34m)\u001b[0m\u001b[0;34m\u001b[0m\u001b[0;34m\u001b[0m\u001b[0m\n\u001b[0m\u001b[1;32m      2\u001b[0m \u001b[0mmn\u001b[0m\u001b[0;34m.\u001b[0m\u001b[0mtrain\u001b[0m\u001b[0;34m(\u001b[0m\u001b[0;34m)\u001b[0m\u001b[0;34m\u001b[0m\u001b[0;34m\u001b[0m\u001b[0m\n",
            "\u001b[0;32m<ipython-input-11-8bf873a211e4>\u001b[0m in \u001b[0;36m__init__\u001b[0;34m(self, dataset, method)\u001b[0m\n\u001b[1;32m      8\u001b[0m     \u001b[0;32melse\u001b[0m\u001b[0;34m:\u001b[0m\u001b[0;34m\u001b[0m\u001b[0;34m\u001b[0m\u001b[0m\n\u001b[1;32m      9\u001b[0m       \u001b[0mself\u001b[0m\u001b[0;34m.\u001b[0m\u001b[0mload_data_cifar\u001b[0m\u001b[0;34m(\u001b[0m\u001b[0;34m)\u001b[0m\u001b[0;34m\u001b[0m\u001b[0;34m\u001b[0m\u001b[0m\n\u001b[0;32m---> 10\u001b[0;31m     \u001b[0mself\u001b[0m\u001b[0;34m.\u001b[0m\u001b[0mdefine_constants\u001b[0m\u001b[0;34m(\u001b[0m\u001b[0mmethod\u001b[0m\u001b[0;34m)\u001b[0m\u001b[0;34m\u001b[0m\u001b[0;34m\u001b[0m\u001b[0m\n\u001b[0m\u001b[1;32m     11\u001b[0m \u001b[0;34m\u001b[0m\u001b[0m\n\u001b[1;32m     12\u001b[0m \u001b[0;34m\u001b[0m\u001b[0m\n",
            "\u001b[0;32m<ipython-input-11-8bf873a211e4>\u001b[0m in \u001b[0;36mdefine_constants\u001b[0;34m(self, method)\u001b[0m\n\u001b[1;32m     55\u001b[0m       \u001b[0mself\u001b[0m\u001b[0;34m.\u001b[0m\u001b[0mepochs\u001b[0m \u001b[0;34m=\u001b[0m \u001b[0;36m5\u001b[0m\u001b[0;34m\u001b[0m\u001b[0;34m\u001b[0m\u001b[0m\n\u001b[1;32m     56\u001b[0m       \u001b[0mlr_rate\u001b[0m \u001b[0;34m=\u001b[0m \u001b[0;36m0.001\u001b[0m\u001b[0;34m\u001b[0m\u001b[0;34m\u001b[0m\u001b[0m\n\u001b[0;32m---> 57\u001b[0;31m       \u001b[0mself\u001b[0m\u001b[0;34m.\u001b[0m\u001b[0mmodel\u001b[0m \u001b[0;34m=\u001b[0m \u001b[0mLogisticRegression\u001b[0m\u001b[0;34m(\u001b[0m\u001b[0mself\u001b[0m\u001b[0;34m.\u001b[0m\u001b[0minput_dim\u001b[0m\u001b[0;34m,\u001b[0m \u001b[0mself\u001b[0m\u001b[0;34m.\u001b[0m\u001b[0moutput_dim\u001b[0m\u001b[0;34m)\u001b[0m\u001b[0;34m.\u001b[0m\u001b[0mcuda\u001b[0m\u001b[0;34m(\u001b[0m\u001b[0;34m)\u001b[0m\u001b[0;34m\u001b[0m\u001b[0;34m\u001b[0m\u001b[0m\n\u001b[0m\u001b[1;32m     58\u001b[0m     \u001b[0;32melif\u001b[0m \u001b[0mmethod\u001b[0m \u001b[0;34m==\u001b[0m \u001b[0;34m'mlp'\u001b[0m\u001b[0;34m:\u001b[0m\u001b[0;34m\u001b[0m\u001b[0;34m\u001b[0m\u001b[0m\n\u001b[1;32m     59\u001b[0m       \u001b[0mself\u001b[0m\u001b[0;34m.\u001b[0m\u001b[0mn_iters\u001b[0m \u001b[0;34m=\u001b[0m \u001b[0;36m3000\u001b[0m\u001b[0;34m\u001b[0m\u001b[0;34m\u001b[0m\u001b[0m\n",
            "\u001b[0;32m/usr/local/lib/python3.6/dist-packages/torch/nn/modules/module.py\u001b[0m in \u001b[0;36mcuda\u001b[0;34m(self, device)\u001b[0m\n\u001b[1;32m    456\u001b[0m             \u001b[0mModule\u001b[0m\u001b[0;34m:\u001b[0m \u001b[0mself\u001b[0m\u001b[0;34m\u001b[0m\u001b[0;34m\u001b[0m\u001b[0m\n\u001b[1;32m    457\u001b[0m         \"\"\"\n\u001b[0;32m--> 458\u001b[0;31m         \u001b[0;32mreturn\u001b[0m \u001b[0mself\u001b[0m\u001b[0;34m.\u001b[0m\u001b[0m_apply\u001b[0m\u001b[0;34m(\u001b[0m\u001b[0;32mlambda\u001b[0m \u001b[0mt\u001b[0m\u001b[0;34m:\u001b[0m \u001b[0mt\u001b[0m\u001b[0;34m.\u001b[0m\u001b[0mcuda\u001b[0m\u001b[0;34m(\u001b[0m\u001b[0mdevice\u001b[0m\u001b[0;34m)\u001b[0m\u001b[0;34m)\u001b[0m\u001b[0;34m\u001b[0m\u001b[0;34m\u001b[0m\u001b[0m\n\u001b[0m\u001b[1;32m    459\u001b[0m \u001b[0;34m\u001b[0m\u001b[0m\n\u001b[1;32m    460\u001b[0m     \u001b[0;32mdef\u001b[0m \u001b[0mcpu\u001b[0m\u001b[0;34m(\u001b[0m\u001b[0mself\u001b[0m\u001b[0;34m:\u001b[0m \u001b[0mT\u001b[0m\u001b[0;34m)\u001b[0m \u001b[0;34m->\u001b[0m \u001b[0mT\u001b[0m\u001b[0;34m:\u001b[0m\u001b[0;34m\u001b[0m\u001b[0;34m\u001b[0m\u001b[0m\n",
            "\u001b[0;32m/usr/local/lib/python3.6/dist-packages/torch/nn/modules/module.py\u001b[0m in \u001b[0;36m_apply\u001b[0;34m(self, fn)\u001b[0m\n\u001b[1;32m    352\u001b[0m     \u001b[0;32mdef\u001b[0m \u001b[0m_apply\u001b[0m\u001b[0;34m(\u001b[0m\u001b[0mself\u001b[0m\u001b[0;34m,\u001b[0m \u001b[0mfn\u001b[0m\u001b[0;34m)\u001b[0m\u001b[0;34m:\u001b[0m\u001b[0;34m\u001b[0m\u001b[0;34m\u001b[0m\u001b[0m\n\u001b[1;32m    353\u001b[0m         \u001b[0;32mfor\u001b[0m \u001b[0mmodule\u001b[0m \u001b[0;32min\u001b[0m \u001b[0mself\u001b[0m\u001b[0;34m.\u001b[0m\u001b[0mchildren\u001b[0m\u001b[0;34m(\u001b[0m\u001b[0;34m)\u001b[0m\u001b[0;34m:\u001b[0m\u001b[0;34m\u001b[0m\u001b[0;34m\u001b[0m\u001b[0m\n\u001b[0;32m--> 354\u001b[0;31m             \u001b[0mmodule\u001b[0m\u001b[0;34m.\u001b[0m\u001b[0m_apply\u001b[0m\u001b[0;34m(\u001b[0m\u001b[0mfn\u001b[0m\u001b[0;34m)\u001b[0m\u001b[0;34m\u001b[0m\u001b[0;34m\u001b[0m\u001b[0m\n\u001b[0m\u001b[1;32m    355\u001b[0m \u001b[0;34m\u001b[0m\u001b[0m\n\u001b[1;32m    356\u001b[0m         \u001b[0;32mdef\u001b[0m \u001b[0mcompute_should_use_set_data\u001b[0m\u001b[0;34m(\u001b[0m\u001b[0mtensor\u001b[0m\u001b[0;34m,\u001b[0m \u001b[0mtensor_applied\u001b[0m\u001b[0;34m)\u001b[0m\u001b[0;34m:\u001b[0m\u001b[0;34m\u001b[0m\u001b[0;34m\u001b[0m\u001b[0m\n",
            "\u001b[0;32m/usr/local/lib/python3.6/dist-packages/torch/nn/modules/module.py\u001b[0m in \u001b[0;36m_apply\u001b[0;34m(self, fn)\u001b[0m\n\u001b[1;32m    374\u001b[0m                 \u001b[0;31m# `with torch.no_grad():`\u001b[0m\u001b[0;34m\u001b[0m\u001b[0;34m\u001b[0m\u001b[0;34m\u001b[0m\u001b[0m\n\u001b[1;32m    375\u001b[0m                 \u001b[0;32mwith\u001b[0m \u001b[0mtorch\u001b[0m\u001b[0;34m.\u001b[0m\u001b[0mno_grad\u001b[0m\u001b[0;34m(\u001b[0m\u001b[0;34m)\u001b[0m\u001b[0;34m:\u001b[0m\u001b[0;34m\u001b[0m\u001b[0;34m\u001b[0m\u001b[0m\n\u001b[0;32m--> 376\u001b[0;31m                     \u001b[0mparam_applied\u001b[0m \u001b[0;34m=\u001b[0m \u001b[0mfn\u001b[0m\u001b[0;34m(\u001b[0m\u001b[0mparam\u001b[0m\u001b[0;34m)\u001b[0m\u001b[0;34m\u001b[0m\u001b[0;34m\u001b[0m\u001b[0m\n\u001b[0m\u001b[1;32m    377\u001b[0m                 \u001b[0mshould_use_set_data\u001b[0m \u001b[0;34m=\u001b[0m \u001b[0mcompute_should_use_set_data\u001b[0m\u001b[0;34m(\u001b[0m\u001b[0mparam\u001b[0m\u001b[0;34m,\u001b[0m \u001b[0mparam_applied\u001b[0m\u001b[0;34m)\u001b[0m\u001b[0;34m\u001b[0m\u001b[0;34m\u001b[0m\u001b[0m\n\u001b[1;32m    378\u001b[0m                 \u001b[0;32mif\u001b[0m \u001b[0mshould_use_set_data\u001b[0m\u001b[0;34m:\u001b[0m\u001b[0;34m\u001b[0m\u001b[0;34m\u001b[0m\u001b[0m\n",
            "\u001b[0;32m/usr/local/lib/python3.6/dist-packages/torch/nn/modules/module.py\u001b[0m in \u001b[0;36m<lambda>\u001b[0;34m(t)\u001b[0m\n\u001b[1;32m    456\u001b[0m             \u001b[0mModule\u001b[0m\u001b[0;34m:\u001b[0m \u001b[0mself\u001b[0m\u001b[0;34m\u001b[0m\u001b[0;34m\u001b[0m\u001b[0m\n\u001b[1;32m    457\u001b[0m         \"\"\"\n\u001b[0;32m--> 458\u001b[0;31m         \u001b[0;32mreturn\u001b[0m \u001b[0mself\u001b[0m\u001b[0;34m.\u001b[0m\u001b[0m_apply\u001b[0m\u001b[0;34m(\u001b[0m\u001b[0;32mlambda\u001b[0m \u001b[0mt\u001b[0m\u001b[0;34m:\u001b[0m \u001b[0mt\u001b[0m\u001b[0;34m.\u001b[0m\u001b[0mcuda\u001b[0m\u001b[0;34m(\u001b[0m\u001b[0mdevice\u001b[0m\u001b[0;34m)\u001b[0m\u001b[0;34m)\u001b[0m\u001b[0;34m\u001b[0m\u001b[0;34m\u001b[0m\u001b[0m\n\u001b[0m\u001b[1;32m    459\u001b[0m \u001b[0;34m\u001b[0m\u001b[0m\n\u001b[1;32m    460\u001b[0m     \u001b[0;32mdef\u001b[0m \u001b[0mcpu\u001b[0m\u001b[0;34m(\u001b[0m\u001b[0mself\u001b[0m\u001b[0;34m:\u001b[0m \u001b[0mT\u001b[0m\u001b[0;34m)\u001b[0m \u001b[0;34m->\u001b[0m \u001b[0mT\u001b[0m\u001b[0;34m:\u001b[0m\u001b[0;34m\u001b[0m\u001b[0;34m\u001b[0m\u001b[0m\n",
            "\u001b[0;31mRuntimeError\u001b[0m: CUDA error: an illegal memory access was encountered"
          ]
        }
      ]
    },
    {
      "cell_type": "code",
      "metadata": {
        "id": "cbH4nvJ8bQYD"
      },
      "source": [
        "mn1 = mnist('lr')\n",
        "mn1.train()"
      ],
      "execution_count": null,
      "outputs": []
    },
    {
      "cell_type": "code",
      "metadata": {
        "id": "5SiAv3eP1qgR",
        "outputId": "277ded76-acb4-4154-89cf-9a9aa20b6e82",
        "colab": {
          "base_uri": "https://localhost:8080/",
          "height": 1000
        }
      },
      "source": [
        "mn2 = mnist('cnn')\n",
        "mn2.train()"
      ],
      "execution_count": 9,
      "outputs": [
        {
          "output_type": "stream",
          "text": [
            "/usr/local/lib/python3.6/dist-packages/ipykernel_launcher.py:16: UserWarning: Implicit dimension choice for softmax has been deprecated. Change the call to include dim=X as an argument.\n",
            "  app.launch_new_instance()\n"
          ],
          "name": "stderr"
        },
        {
          "output_type": "stream",
          "text": [
            "Iteration: 100. Loss: 2.3003227710723877. Accuracy: 14.\n",
            "Iteration: 200. Loss: 2.2981252670288086. Accuracy: 15.\n",
            "Iteration: 300. Loss: 2.2842442989349365. Accuracy: 26.\n",
            "Iteration: 400. Loss: 1.902312159538269. Accuracy: 54.\n",
            "Iteration: 500. Loss: 1.804226279258728. Accuracy: 70.\n",
            "Iteration: 600. Loss: 1.76531183719635. Accuracy: 69.\n",
            "Iteration: 700. Loss: 1.7190874814987183. Accuracy: 72.\n",
            "Iteration: 800. Loss: 1.7514549493789673. Accuracy: 74.\n",
            "Iteration: 900. Loss: 1.7567152976989746. Accuracy: 75.\n",
            "Iteration: 1000. Loss: 1.692921757698059. Accuracy: 75.\n",
            "Iteration: 1100. Loss: 1.6903187036514282. Accuracy: 75.\n",
            "Iteration: 1200. Loss: 1.6789740324020386. Accuracy: 76.\n",
            "Iteration: 1300. Loss: 1.6636067628860474. Accuracy: 76.\n",
            "Iteration: 1400. Loss: 1.6961828470230103. Accuracy: 76.\n",
            "Iteration: 1500. Loss: 1.622135877609253. Accuracy: 76.\n",
            "Iteration: 1600. Loss: 1.7067257165908813. Accuracy: 77.\n",
            "Iteration: 1700. Loss: 1.6229948997497559. Accuracy: 77.\n",
            "Iteration: 1800. Loss: 1.639493465423584. Accuracy: 77.\n",
            "Iteration: 1900. Loss: 1.664937138557434. Accuracy: 77.\n",
            "Iteration: 2000. Loss: 1.705588698387146. Accuracy: 77.\n",
            "Iteration: 2100. Loss: 1.6854710578918457. Accuracy: 78.\n",
            "Iteration: 2200. Loss: 1.6551642417907715. Accuracy: 77.\n",
            "Iteration: 2300. Loss: 1.710689663887024. Accuracy: 78.\n",
            "Iteration: 2400. Loss: 1.7144370079040527. Accuracy: 78.\n",
            "Iteration: 2500. Loss: 1.6805508136749268. Accuracy: 77.\n",
            "Iteration: 2600. Loss: 1.6188145875930786. Accuracy: 78.\n",
            "Iteration: 2700. Loss: 1.6861153841018677. Accuracy: 78.\n",
            "Iteration: 2800. Loss: 1.6316583156585693. Accuracy: 78.\n",
            "Iteration: 2900. Loss: 1.665467381477356. Accuracy: 78.\n",
            "Iteration: 3000. Loss: 1.6855053901672363. Accuracy: 78.\n"
          ],
          "name": "stdout"
        },
        {
          "output_type": "display_data",
          "data": {
            "image/png": "[encoded data removed]",
            "text/plain": [
              "<Figure size 432x288 with 1 Axes>"
            ]
          },
          "metadata": {
            "tags": [],
            "needs_background": "light"
          }
        },
        {
          "output_type": "display_data",
          "data": {
            "image/png": "[encoded data removed]",
            "text/plain": [
              "<Figure size 432x288 with 1 Axes>"
            ]
          },
          "metadata": {
            "tags": [],
            "needs_background": "light"
          }
        }
      ]
    }
  ]
}