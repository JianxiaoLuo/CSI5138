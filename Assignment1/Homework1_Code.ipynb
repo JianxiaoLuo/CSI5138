{
  "nbformat": 4,
  "nbformat_minor": 0,
  "metadata": {
    "colab": {
      "name": "CSI5138Assignment1.ipynb",
      "provenance": [],
      "collapsed_sections": []
    },
    "kernelspec": {
      "name": "python3",
      "display_name": "Python 3"
    }
  },
  "cells": [
    {
      "cell_type": "markdown",
      "metadata": {
        "id": "2tObpxfcNz9u",
        "colab_type": "text"
      },
      "source": [
        "# Introduction\n",
        "This homework is programming based, where you must use Python to explore the fitting and gener-\n",
        "alization of regression models via simulation.\n",
        "\n",
        "Suppose that $X$ and $Y$ are both real valued random variables, where $X$ takes value in $(0; 1)$ and $Y$\n",
        "depends on X according to\n",
        "$$Y = cos(2\\pi X) + Z ......(1)$$\n",
        "where $Z$ is a zero mean Gaussian random variable with variance $\\sigma^2$ , and $Z$ is independent of $X$. But assume\n",
        "that you do not know this dependency of $Y$ on $X$ and that you only observe a sample of $N (X; Y )$ pairs.\n",
        "Based on the observed sample, you must learn a polynomial regression model and examine the fitting and\n",
        "generalization capability of your model in relation to the model complexity and sample size.\n",
        "\n",
        "Below detailed instructions are given to guide you through this exercise. These instructions only serve as\n",
        "a guideline, which your implementation need not to rigorously follow. You must use Python to write your\n",
        "code. It is fine and encouraged, but NOT compulsory, if you use a Python package that does automatic\n",
        "differentiation.1 But you must implement manually gradient-based optimization. That is, the\n",
        "use of the package is only for you to compute the required gradients and you must manually\n",
        "code up the update of model parameters. You need to submit the following deliverables.\n",
        "* All Python code\n",
        "* A concise report explaining your findings."
      ]
    },
    {
      "cell_type": "markdown",
      "metadata": {
        "id": "ZghT616HP_6w",
        "colab_type": "text"
      },
      "source": [
        "# A\n",
        "Write a function ***getData*** that generates a dataset $\\{f(x_i; y_i) : i = 1, 2...N\\}$ of $N (X, Y)$ pairs for a\n",
        "given value of $N$ and $\\sigma^2$. The $X$ values are drawn uniformly at random from $(0, 1)$ and the corresponding\n",
        "$Y$ values are generated according to $(1)$.\n",
        "\n",
        "The dataset created by ***getData*** will then be used to fit your regression models. Of course, in the design\n",
        "of your regression model, you should assume no knowledge on how the dataset is generated.\n",
        "\n",
        "The regression models we consider will be exclusively polynomial models, namely, predicts Y from X\n",
        "according to\n",
        "$$Y = a_0 + a_1X + a_2X^2 + ... + a_dX^d$$\n",
        "where d is the polynomial degree and $a_i$'s are coefficients to be estimated."
      ]
    },
    {
      "cell_type": "code",
      "metadata": {
        "id": "cKNDFm3i-_NN",
        "colab_type": "code",
        "colab": {
          "base_uri": "https://localhost:8080/",
          "height": 72
        },
        "outputId": "66f24e43-2107-4df9-960d-b05491894f89"
      },
      "source": [
        "import random\n",
        "import numpy as np\n",
        "import math\n",
        "import torch\n",
        "import matplotlib.pyplot as plt\n",
        "import seaborn as sns"
      ],
      "execution_count": 1,
      "outputs": [
        {
          "output_type": "stream",
          "text": [
            "/usr/local/lib/python3.6/dist-packages/statsmodels/tools/_testing.py:19: FutureWarning: pandas.util.testing is deprecated. Use the functions in the public API at pandas.testing instead.\n",
            "  import pandas.util.testing as tm\n"
          ],
          "name": "stderr"
        }
      ]
    },
    {
      "cell_type": "code",
      "metadata": {
        "id": "AnOY1Ln181Hd",
        "colab_type": "code",
        "colab": {}
      },
      "source": [
        "def getData(N, sigma=0.01, draw=True):\n",
        "  # x = torch.FloatTensor(n,).uniform_(0, 1)\n",
        "  x = torch.rand(N)\n",
        "  z = torch.normal(0, sigma, size=(N,))\n",
        "  f = torch.cos(2*np.pi*x)\n",
        "  y = f + z\n",
        "\n",
        "  if draw:\n",
        "    fig, ax = plt.subplots()\n",
        "    # sns.lineplot(x=x, y=f, color='red', label='f(x)', ax=ax)\n",
        "    sns.scatterplot(x=x, y=y, color='blue', label=\"training data\", ax=ax)\n",
        "    plt.title(\"getData\")\n",
        "  return x, y\n"
      ],
      "execution_count": 2,
      "outputs": []
    },
    {
      "cell_type": "code",
      "metadata": {
        "id": "B_gA75SnlvI4",
        "colab_type": "code",
        "colab": {
          "base_uri": "https://localhost:8080/",
          "height": 298
        },
        "outputId": "71827be7-f23d-45e9-ef46-f25da1649002"
      },
      "source": [
        "# Test getData()\n",
        "x, y = getData(200, 0.01)\n",
        "print(x.size(), y.size())"
      ],
      "execution_count": 3,
      "outputs": [
        {
          "output_type": "stream",
          "text": [
            "torch.Size([200]) torch.Size([200])\n"
          ],
          "name": "stdout"
        },
        {
          "output_type": "display_data",
          "data": {
            "image/png": "[encoded data removed]",
            "text/plain": [
              "<Figure size 432x288 with 1 Axes>"
            ]
          },
          "metadata": {
            "tags": [],
            "needs_background": "light"
          }
        }
      ]
    },
    {
      "cell_type": "markdown",
      "metadata": {
        "id": "Fqfk6TGsiPW1",
        "colab_type": "text"
      },
      "source": [
        "# B\n",
        "Write a function ***getMSE*** which computes the mean square error (MSE) for a given dataset fitted to a specified polynomial."
      ]
    },
    {
      "cell_type": "code",
      "metadata": {
        "id": "ZLEinH1L23yN",
        "colab_type": "code",
        "colab": {}
      },
      "source": [
        "# x should be a (d+1)×batch_size matrix, y is a 1×batch_size matrix, ad is the 1×(d+1) coefficient\n",
        "def getMSE(x, y, ad):\n",
        "  # x is already extended in polynomial way\n",
        "  y_ex = torch.matmul(ad, x)\n",
        "  return torch.mean(torch.square(y - y_ex))"
      ],
      "execution_count": 3,
      "outputs": []
    },
    {
      "cell_type": "markdown",
      "metadata": {
        "id": "klPjsVdFilbZ",
        "colab_type": "text"
      },
      "source": [
        "# C\n",
        "Write a function ***fitData*** that estimates the polynomial coefficients by fitting a given dataset to a degree-d polynomial. The function returns the following:\n",
        "1. The estimated polynomial coefficients. The estimation of the coefficients should be based on GD\\SGD\\mini-batched SGD.\n",
        "2. The MSE of the dataset fitted to the estimated polynomial. This MSE will be denoted by $E_{in}$.\n",
        "3. $E_{out}$. To obtain this value, your function needs to generate a separate large testing dataset (say,\n",
        "containing 1000 or 2000 data points) using getData and under the same setting of $\\sigma^2$ and compute\n",
        "the MSE of the testing dataset fitted to the estimated polynomial.\n",
        "The computation of Ein and Eout calls **getMSE**."
      ]
    },
    {
      "cell_type": "code",
      "metadata": {
        "id": "_QFTNix34e9F",
        "colab_type": "code",
        "colab": {}
      },
      "source": [
        "def fitData(x, y, d=20, batch_size=10, draw=True, n_epochs=500):\n",
        "  ad = torch.rand(d+1)\n",
        "  ad.requires_grad = True\n",
        "  l = 0.01 # Learning rate\n",
        "  loss = []\n",
        "  Ein = []\n",
        "\n",
        "  # Get Ein\n",
        "  for epoch in range(n_epochs):\n",
        "\n",
        "      # Returns a random permutation of integers from 0 to n - 1.\n",
        "      permutation = torch.randperm(x.size()[0])\n",
        "\n",
        "      for i in range(0,x.size()[0], batch_size):\n",
        "          # optimizer.zero_grad()\n",
        "\n",
        "          indices = permutation[i:i+batch_size]\n",
        "          xi, yi = x[indices], y[indices]\n",
        "          \n",
        "          x_poly = torch.zeros(d+1, batch_size)\n",
        "          for i in range(d+1):\n",
        "            x_poly[i] = xi ** i\n",
        "\n",
        "          # in case you wanted a semi-full example\n",
        "          loss.append(getMSE(x_poly, yi, ad).item())\n",
        "          temp = 2 * (yi - torch.matmul(ad, x_poly)) * x_poly\n",
        "          temp = torch.sum(temp, dim=1)\n",
        "          ad_new = ad + l * temp / batch_size\n",
        "          ad = ad_new\n",
        "      # optimizer.step()\n",
        "\n",
        "      Ein.append(sum(loss)/len(loss))\n",
        "      loss = []\n",
        "  \n",
        "  if draw:\n",
        "    # plot the figure\n",
        "    fig, ax = plt.subplots()\n",
        "    sns.lineplot(x=range(len(Ein)), y=Ein, color='blue', label = 'Ein', ax=ax)\n",
        "    plt.title(\"MSE epoch\")\n",
        "    plt.xlabel(\"Epochs\")\n",
        "    plt.ylabel(\"MSE\")\n",
        "  \n",
        "  #Get Eout\n",
        "  test_size = 1000\n",
        "  x_out, y_out = getData(test_size, draw=False)\n",
        "  x_out_poly = torch.zeros(d+1, test_size)\n",
        "  for i in range(d+1):\n",
        "    x_out_poly[i] = x_out ** i\n",
        "  Eout = getMSE(x_out_poly, y_out, ad).item()\n",
        "  \n",
        "  return ad, Ein[-1], Eout"
      ],
      "execution_count": 4,
      "outputs": []
    },
    {
      "cell_type": "code",
      "metadata": {
        "id": "_JsBhJmE50Do",
        "colab_type": "code",
        "colab": {
          "base_uri": "https://localhost:8080/",
          "height": 330
        },
        "outputId": "76e4c9a8-4de9-44b1-801c-d46ad218c7e1"
      },
      "source": [
        "# Test fitData()\n",
        "x, y = getData(N=1000, sigma=0.01, draw=False)\n",
        "ad, Ein, Eout = fitData(x, y, d=20, batch_size=100, n_epochs=3000)\n",
        "print(\"Ein is: \", Ein)\n",
        "print(\"Eout is:\", Eout)"
      ],
      "execution_count": 11,
      "outputs": [
        {
          "output_type": "stream",
          "text": [
            "Ein is:  0.024507883936166763\n",
            "Eout is: 0.025868888944387436\n"
          ],
          "name": "stdout"
        },
        {
          "output_type": "display_data",
          "data": {
            "image/png": "[encoded data removed]",
            "text/plain": [
              "<Figure size 432x288 with 1 Axes>"
            ]
          },
          "metadata": {
            "tags": [],
            "needs_background": "light"
          }
        }
      ]
    },
    {
      "cell_type": "markdown",
      "metadata": {
        "id": "O8AxImVpcAn6",
        "colab_type": "text"
      },
      "source": [
        "# D\n",
        "Write a function ***experiment*** that takes as input the size N of training dataset, the degree d of the\n",
        "model polynomial and noise variance $\\sigma^2$), and does the following. For the given values of N,d and $\\sigma^2$, it\n",
        "loops over M trials (M not smaller than 20; say, 50 would be a decent number), where each trial is defined\n",
        "as generating a training dataset of size N and noise variance $\\sigma^2$ (by calling ***getData***) and then fitting the\n",
        "data to a polynomial of degree d (by calling ***fitData***). The computed $E_{in}$ and $E_{out}$ are respectively averaged\n",
        "over the M trials, which are denoted by $E_{in}$ and $E_{out}$. The obtained M polynomials over the M trials are\n",
        "also averaged. The function then generates another large dataset with noise variance $\\sigma^2$ and computes the\n",
        "average MSE for the dataset fitted to the average polynomial. This MSE will be denoted by $E_{bias}$. The\n",
        "function outputs $E_{in}$, $E_{out}$ and $E_{bias}$. These three values are the metrics that you will examine."
      ]
    },
    {
      "cell_type": "code",
      "metadata": {
        "id": "tDPldeYfdVcb",
        "colab_type": "code",
        "colab": {}
      },
      "source": [
        "def experiment(N, sigma, d, batch_size=10, n_epochs=500, wd=None):\n",
        "  M = 30\n",
        "  Ein = []\n",
        "  Eout = []\n",
        "  ad = torch.zeros([M, d+1])\n",
        "  \n",
        "  # if no wd is given, then the experiment is done without weight decay\n",
        "  if not wd:\n",
        "    # To get the Ein and Eout and ad\n",
        "    for i in range(M):\n",
        "      x, y = getData(N, sigma, False)\n",
        "      ad_t, Ein_t, Eout_t = fitData(x, y, d, batch_size=batch_size, draw=False, n_epochs=n_epochs)\n",
        "      Ein.append(Ein_t)\n",
        "      Eout.append(Eout_t)\n",
        "      ad[i] = ad_t\n",
        "    \n",
        "    Ein = torch.FloatTensor(Ein)\n",
        "    Eout = torch.FloatTensor(Eout)\n",
        "    \n",
        "    # Get E_bias\n",
        "    ad_ave = torch.mean(ad, axis=0)\n",
        "    x_bias, y_bias = getData(N, sigma, False)\n",
        "    x_poly = torch.zeros(d+1, N)\n",
        "    for i in range(d+1):\n",
        "      x_poly[i] = x_bias ** i\n",
        "    E_bias = getMSE(x_poly, y_bias, ad_ave).item()\n",
        "  \n",
        "  else:\n",
        "    # To get the Ein and Eout and ad\n",
        "    for i in range(M):\n",
        "      x, y = getData(N, sigma, False)\n",
        "      ad_t, Ein_t, Eout_t = fitData_wd(x, y, d, batch_size=batch_size,\n",
        "                          draw=False, n_epochs=n_epochs,\n",
        "                           wd=wd)\n",
        "      Ein.append(Ein_t)\n",
        "      Eout.append(Eout_t)\n",
        "      ad[i] = ad_t\n",
        "    \n",
        "    Ein = torch.FloatTensor(Ein)\n",
        "    Eout = torch.FloatTensor(Eout)\n",
        "\n",
        "    # Get E_bias\n",
        "    ad_ave = torch.mean(ad, axis=0)\n",
        "    x_bias, y_bias = getData(N, sigma, False)\n",
        "    x_poly = torch.zeros(d+1, N)\n",
        "    for i in range(d+1):\n",
        "      x_poly[i] = x_bias ** i\n",
        "    E_bias = getMSE_wd(x_poly, y_bias, ad_ave, wd=wd).item()\n",
        "\n",
        "  return torch.mean(Ein).item(), torch.mean(Eout).item(), E_bias"
      ],
      "execution_count": 37,
      "outputs": []
    },
    {
      "cell_type": "code",
      "metadata": {
        "id": "jRSYl9z3m1Xj",
        "colab_type": "code",
        "colab": {
          "base_uri": "https://localhost:8080/",
          "height": 34
        },
        "outputId": "a4b191bd-4284-4adc-9929-40e929dc6518"
      },
      "source": [
        "# Test experiment\n",
        "Ein, Eout, Ebias = experiment(200, 0.01, 20, batch_size=20, n_epochs=1000)\n",
        "print(Ein, Eout, Ebias)"
      ],
      "execution_count": 17,
      "outputs": [
        {
          "output_type": "stream",
          "text": [
            "0.05068271979689598 0.05154363065958023 0.052007194608449936\n"
          ],
          "name": "stdout"
        }
      ]
    },
    {
      "cell_type": "markdown",
      "metadata": {
        "id": "LhJ6F4z4fMMa",
        "colab_type": "text"
      },
      "source": [
        "# E\n",
        "Run experiment for all combinations of $N$, $d$, and $\\sigma_2$, with $N\\in\\{2, 5, 10, 20, 50, 100, 200\\}$, $d\\in\\{0, 1, 2, ..., 20\\}$, $\\sigma\\in\\{0.01, 0.1, 1\\}$. Organize the results in plots and comment on what you observe regarding fitting and generalization of your models, in relation to model complexity (d), sample size (N), and\n",
        "noise level ($\\sigma$). Note:\n",
        "\n",
        "* Plots under comparison should display the same Y-range.\n",
        "* You do not need to plot all the results. Rather, you should carefully design the ways you plot your\n",
        "results so as to be the most illustrative and to fully reflect you understanding."
      ]
    },
    {
      "cell_type": "code",
      "metadata": {
        "id": "X4ud-LxUgUms",
        "colab_type": "code",
        "colab": {}
      },
      "source": [
        "# N = [2, 5, 10, 20, 50, 100, 200]\n",
        "# d = [i for i in range(20)]\n",
        "# sigma = [0.01, 0.1, 1]"
      ],
      "execution_count": 13,
      "outputs": []
    },
    {
      "cell_type": "code",
      "metadata": {
        "id": "OPOXL9yx4JT2",
        "colab_type": "code",
        "colab": {}
      },
      "source": [
        "# Try to see the relativity between model complexity and over-fitting\n",
        "d = 30\n",
        "Ein = []\n",
        "Eout = []\n",
        "for i in range(d+1):\n",
        "  Ein_t, Eout_t, Ebias = experiment(100, 0.01, i, batch_size=20, n_epochs=800)\n",
        "  Ein.append(Ein_t)\n",
        "  Eout.append(Eout_t)"
      ],
      "execution_count": 18,
      "outputs": []
    },
    {
      "cell_type": "code",
      "metadata": {
        "id": "kizL7KUb9Vnd",
        "colab_type": "code",
        "colab": {
          "base_uri": "https://localhost:8080/",
          "height": 312
        },
        "outputId": "6518240a-25a9-4030-8730-9fac775c5503"
      },
      "source": [
        "fig, ax = plt.subplots()\n",
        "\n",
        "sns.lineplot(x=d, y=Ein, color='blue', label = 'Ein', ax=ax)\n",
        "sns.lineplot(x=d, y=Eout, color='red', label = 'Eout', ax=ax)\n",
        "plt.xticks(d)\n",
        "plt.title(\"Model Complexity(N=100, sigma=0.01, n_epochs=800, batch_size=20\")\n",
        "plt.xlabel(\"d degree of polynomial\")\n",
        "plt.ylabel(\"MSE\")"
      ],
      "execution_count": 21,
      "outputs": [
        {
          "output_type": "execute_result",
          "data": {
            "text/plain": [
              "Text(0, 0.5, 'MSE')"
            ]
          },
          "metadata": {
            "tags": []
          },
          "execution_count": 21
        },
        {
          "output_type": "display_data",
          "data": {
            "image/png": "[encoded data removed]",
            "text/plain": [
              "<Figure size 432x288 with 1 Axes>"
            ]
          },
          "metadata": {
            "tags": [],
            "needs_background": "light"
          }
        }
      ]
    },
    {
      "cell_type": "code",
      "metadata": {
        "id": "zvVOy0vnQon9",
        "colab_type": "code",
        "colab": {}
      },
      "source": [
        "# Different N in simple model and complex model\n",
        "N = [2, 6, 12, 20, 50, 100, 200]\n",
        "batch_size = [1, 2, 3, 5, 10, 10, 20]\n",
        "d1 = 10\n",
        "d2 = 30\n",
        "Ein1 = []\n",
        "Ein2 = []\n",
        "Eout1 = []\n",
        "Eout2 = []\n",
        "for i in range(len(N)):\n",
        "  Ein_t1, Eout_t1, Ebias1 = experiment(N[i], 0.01, d1, batch_size=batch_size[i], n_epochs=1000)\n",
        "  Ein_t2, Eout_t2, Ebias2 = experiment(N[i], 0.01, d2, batch_size=batch_size[i], n_epochs=1000)\n",
        "  Ein1.append(Ein_t1)\n",
        "  Eout1.append(Eout_t1)\n",
        "  Ein2.append(Ein_t2)\n",
        "  Eout2.append(Eout_t2)"
      ],
      "execution_count": null,
      "outputs": []
    },
    {
      "cell_type": "code",
      "metadata": {
        "id": "pzXoYpBtX5WT",
        "colab_type": "code",
        "colab": {
          "base_uri": "https://localhost:8080/",
          "height": 312
        },
        "outputId": "266d0cc3-980a-491b-d654-aed85253a601"
      },
      "source": [
        "# plot the result\n",
        "fig, ax = plt.subplots()\n",
        "sns.lineplot(x=N, y=Ein1, color='blue', label = 'Ein', ax=ax)\n",
        "sns.lineplot(x=N, y=Eout1, color='red', label = 'Eout', ax=ax)\n",
        "plt.xticks(N)\n",
        "plt.title(\"Ein, Eout, Egen vs Sample Size N (d=10)\")\n",
        "plt.xlabel(\"Sample Size N\")\n",
        "plt.ylabel(\"MSE\")"
      ],
      "execution_count": 9,
      "outputs": [
        {
          "output_type": "execute_result",
          "data": {
            "text/plain": [
              "Text(0, 0.5, 'MSE')"
            ]
          },
          "metadata": {
            "tags": []
          },
          "execution_count": 9
        },
        {
          "output_type": "display_data",
          "data": {
            "image/png": "[encoded data removed]",
            "text/plain": [
              "<Figure size 432x288 with 1 Axes>"
            ]
          },
          "metadata": {
            "tags": [],
            "needs_background": "light"
          }
        }
      ]
    },
    {
      "cell_type": "code",
      "metadata": {
        "id": "EgQWJWNxZYt4",
        "colab_type": "code",
        "colab": {
          "base_uri": "https://localhost:8080/",
          "height": 312
        },
        "outputId": "c3c9a05b-d476-4550-ab16-7cbabe91f5c6"
      },
      "source": [
        "# plot the result\n",
        "fig, ax = plt.subplots()\n",
        "sns.lineplot(x=N, y=Ein2, color='blue', label = 'Ein', ax=ax)\n",
        "sns.lineplot(x=N, y=Eout2, color='red', label = 'Eout', ax=ax)\n",
        "plt.xticks(N)\n",
        "plt.title(\"Ein, Eout, Egen vs Sample Size N (d=30)\")\n",
        "plt.xlabel(\"Sample Size N\")\n",
        "plt.ylabel(\"MSE\")"
      ],
      "execution_count": 10,
      "outputs": [
        {
          "output_type": "execute_result",
          "data": {
            "text/plain": [
              "Text(0, 0.5, 'MSE')"
            ]
          },
          "metadata": {
            "tags": []
          },
          "execution_count": 10
        },
        {
          "output_type": "display_data",
          "data": {
            "image/png": "[encoded data removed]",
            "text/plain": [
              "<Figure size 432x288 with 1 Axes>"
            ]
          },
          "metadata": {
            "tags": [],
            "needs_background": "light"
          }
        }
      ]
    },
    {
      "cell_type": "code",
      "metadata": {
        "id": "E11ktXZGdyYu",
        "colab_type": "code",
        "colab": {}
      },
      "source": [
        "# Change sigma\n",
        "sigma = [0.01, 0.1, 0.5, 1, 2]\n",
        "d = 30\n",
        "Ein = []\n",
        "Eout = []\n",
        "for i in sigma:\n",
        "  Ein_t, Eout_t, Ebias = experiment(100, i, d, batch_size=4, n_epochs=800)\n",
        "  Ein.append(Ein_t)\n",
        "  Eout.append(Eout_t)"
      ],
      "execution_count": 31,
      "outputs": []
    },
    {
      "cell_type": "code",
      "metadata": {
        "id": "bjGUskD_TaWa",
        "colab_type": "code",
        "colab": {
          "base_uri": "https://localhost:8080/",
          "height": 312
        },
        "outputId": "4b9045a0-6216-4ed7-d99e-95609633dab9"
      },
      "source": [
        "# plot the result\n",
        "fig, ax = plt.subplots()\n",
        "sns.lineplot(x=sigma, y=Ein, color='blue', label = 'Ein', ax=ax)\n",
        "sns.lineplot(x=sigma, y=Eout, color='red', label = 'Eout', ax=ax)\n",
        "plt.xticks(sigma)\n",
        "plt.title(\"Ein, Eout vs sigma\")\n",
        "plt.xlabel(\"sigma\")\n",
        "plt.ylabel(\"MSE\")"
      ],
      "execution_count": 32,
      "outputs": [
        {
          "output_type": "execute_result",
          "data": {
            "text/plain": [
              "Text(0, 0.5, 'MSE')"
            ]
          },
          "metadata": {
            "tags": []
          },
          "execution_count": 32
        },
        {
          "output_type": "display_data",
          "data": {
            "image/png": "[encoded data removed]",
            "text/plain": [
              "<Figure size 432x288 with 1 Axes>"
            ]
          },
          "metadata": {
            "tags": [],
            "needs_background": "light"
          }
        }
      ]
    },
    {
      "cell_type": "markdown",
      "metadata": {
        "id": "jw_t1nzbgXQQ",
        "colab_type": "text"
      },
      "source": [
        "# F\n",
        "Revise your code to include weight decay regularization, and redo (E). Plot the results and comment\n",
        "on what you observe."
      ]
    },
    {
      "cell_type": "code",
      "metadata": {
        "id": "16PLA2LJggZe",
        "colab_type": "code",
        "colab": {}
      },
      "source": [
        "def getMSE_wd(x, y, ad, wd=0.01):\n",
        "  y_ex = torch.matmul(ad, x)\n",
        "  MSE = torch.mean(torch.square(y - y_ex))\n",
        "  add = wd * torch.sum(ad ** 2)\n",
        "  return MSE + add"
      ],
      "execution_count": 33,
      "outputs": []
    },
    {
      "cell_type": "code",
      "metadata": {
        "id": "44-faPdeV3hE",
        "colab_type": "code",
        "colab": {}
      },
      "source": [
        "def fitData_wd(x, y, d=20, batch_size=10, draw=True, n_epochs=500, wd=0.01):\n",
        "  ad = torch.rand(d+1)\n",
        "  ad.requires_grad = True\n",
        "  l = 0.01 # Learning rate\n",
        "  loss = []\n",
        "  Ein = []\n",
        "\n",
        "  # Get Ein\n",
        "  for epoch in range(n_epochs):\n",
        "\n",
        "      # Returns a random permutation of integers from 0 to n - 1.\n",
        "      permutation = torch.randperm(x.size()[0])\n",
        "\n",
        "      for i in range(0,x.size()[0], batch_size):\n",
        "          # optimizer.zero_grad()\n",
        "\n",
        "          indices = permutation[i:i+batch_size]\n",
        "          xi, yi = x[indices], y[indices]\n",
        "          \n",
        "          x_poly = torch.zeros(d+1, batch_size)\n",
        "          for i in range(d+1):\n",
        "            x_poly[i] = xi ** i\n",
        "\n",
        "          # in case you wanted a semi-full example\n",
        "          loss.append(getMSE_wd(x_poly, yi, ad, wd=wd).item())\n",
        "          temp = 2 * (yi - torch.matmul(ad, x_poly)) * x_poly\n",
        "          temp = torch.sum(temp, dim=1)\n",
        "          ad_new = (1 - wd) * ad + l * temp / batch_size\n",
        "          ad = ad_new\n",
        "      # optimizer.step()\n",
        "\n",
        "      Ein.append(sum(loss)/len(loss))\n",
        "      loss = []\n",
        "  \n",
        "  if draw:\n",
        "    # plot the figure\n",
        "    fig, ax = plt.subplots()\n",
        "    sns.lineplot(x=range(len(Ein)), y=Ein, color='blue', label = 'Ein', ax=ax)\n",
        "    plt.title(\"MSE epoch\")\n",
        "    plt.xlabel(\"Epochs\")\n",
        "    plt.ylabel(\"MSE\")\n",
        "  \n",
        "  #Get Eout\n",
        "  test_size = 1000\n",
        "  x_out, y_out = getData(test_size, draw=False)\n",
        "  x_out_poly = torch.zeros(d+1, test_size)\n",
        "  for i in range(d+1):\n",
        "    x_out_poly[i] = x_out ** i\n",
        "  Eout = getMSE_wd(x_out_poly, y_out, ad, wd=wd).item()\n",
        "  \n",
        "  return ad, Ein[-1], Eout"
      ],
      "execution_count": 34,
      "outputs": []
    },
    {
      "cell_type": "code",
      "metadata": {
        "id": "TpNhazwTh0y5",
        "colab_type": "code",
        "colab": {}
      },
      "source": [
        "# Test weight decay\n",
        "# Try to see the relativity between model complexity and over-fitting\n",
        "d = 30\n",
        "Ein = []\n",
        "Eout = []\n",
        "for i in range(d+1):\n",
        "  Ein_t, Eout_t, Ebias = experiment(12, 0.01, i, batch_size=4, n_epochs=2000, wd=0.01)\n",
        "  Ein.append(Ein_t)\n",
        "  Eout.append(Eout_t)"
      ],
      "execution_count": 50,
      "outputs": []
    },
    {
      "cell_type": "code",
      "metadata": {
        "id": "mXcs4YLUt4n7",
        "colab_type": "code",
        "colab": {
          "base_uri": "https://localhost:8080/",
          "height": 312
        },
        "outputId": "cd56f2fe-a746-4498-b618-b8fd32752498"
      },
      "source": [
        "# Plot the result\n",
        "fig, ax = plt.subplots()\n",
        "d = [i for i in range(d+1)]\n",
        "sns.lineplot(x=d, y=Ein, color='blue', label = 'Ein', ax=ax)\n",
        "sns.lineplot(x=d, y=Eout, color='red', label = 'Eout', ax=ax)\n",
        "plt.xticks(d)\n",
        "axes = plt.gca()\n",
        "axes.set_ylim([0,1.4])\n",
        "plt.title(\"Model Complexity with weight decay\")\n",
        "plt.xlabel(\"d degree of polynomial\")\n",
        "plt.ylabel(\"MSE\")"
      ],
      "execution_count": 52,
      "outputs": [
        {
          "output_type": "execute_result",
          "data": {
            "text/plain": [
              "Text(0, 0.5, 'MSE')"
            ]
          },
          "metadata": {
            "tags": []
          },
          "execution_count": 52
        },
        {
          "output_type": "display_data",
          "data": {
            "image/png": "[encoded data removed]",
            "text/plain": [
              "<Figure size 432x288 with 1 Axes>"
            ]
          },
          "metadata": {
            "tags": [],
            "needs_background": "light"
          }
        }
      ]
    }
  ]
}