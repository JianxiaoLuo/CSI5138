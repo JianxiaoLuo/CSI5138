{
  "nbformat": 4,
  "nbformat_minor": 0,
  "metadata": {
    "colab": {
      "name": "assignment2.ipynb",
      "provenance": [],
      "collapsed_sections": []
    },
    "kernelspec": {
      "name": "python3",
      "display_name": "Python 3"
    },
    "accelerator": "GPU"
  },
  "cells": [
    {
      "cell_type": "markdown",
      "metadata": {
        "id": "ulYj8-M5VQqU"
      },
      "source": [
        "# Import packages"
      ]
    },
    {
      "cell_type": "code",
      "metadata": {
        "id": "3DlbikzY56Y8"
      },
      "source": [
        "import torch\n",
        "import torchvision.datasets as dsets\n",
        "from torch.autograd import Variable\n",
        "import torchvision.transforms as transforms\n",
        "import matplotlib.pyplot as plt\n",
        "import seaborn as sns\n",
        "import torchvision\n",
        "import torch.nn.functional as F\n",
        "import numpy as np\n",
        "from sklearn.metrics import confusion_matrix"
      ],
      "execution_count": 4,
      "outputs": []
    },
    {
      "cell_type": "code",
      "metadata": {
        "id": "OMf0XN2a1Kmb"
      },
      "source": [
        "# Change working directory\n",
        "import os\n",
        "os.chdir('/content/drive/My Drive/UOttawa/2020Fall/CSI5138/assignment2')"
      ],
      "execution_count": 5,
      "outputs": []
    },
    {
      "cell_type": "markdown",
      "metadata": {
        "id": "HmVu9O6MVWof"
      },
      "source": [
        "# Define Networks"
      ]
    },
    {
      "cell_type": "markdown",
      "metadata": {
        "id": "bBQiXXQHVdyZ"
      },
      "source": [
        "## Logistic Regression\n",
        "Parameters are the size of input and output."
      ]
    },
    {
      "cell_type": "code",
      "metadata": {
        "id": "C9RYr7hr52nU"
      },
      "source": [
        "# Define the logistic regression\n",
        "class LogisticRegression(torch.nn.Module):\n",
        "    def __init__(self, input_dim, output_dim):\n",
        "        super(LogisticRegression, self).__init__()\n",
        "        self.linear = torch.nn.Linear(input_dim, output_dim)\n",
        "\n",
        "\n",
        "    def forward(self, x):\n",
        "        outputs = self.linear(x)\n",
        "        return outputs"
      ],
      "execution_count": 6,
      "outputs": []
    },
    {
      "cell_type": "markdown",
      "metadata": {
        "id": "gZGIy22UVuf8"
      },
      "source": [
        "## MLP\n",
        "The parameters are the size of input layer and output layer.\n",
        "\n",
        "I have tested three different network structures, one simple network,\n",
        "one with wider hidden layer and another deeper one, to see how the \n",
        "width and deepth would affect the learning process and result.\n",
        "\n",
        "Here are these three network (Take CIFAR-10 dataset as example, the number\n",
        "is the size of each layer):\n",
        "* CIFAR 3072 -> 512 -> 128 -> 10\n",
        "* CIFAR 3072 -> 1024 -> 512 -> 10\n",
        "* CIFAR 3072 -> 512 -> 256 -> 128 -> 10"
      ]
    },
    {
      "cell_type": "code",
      "metadata": {
        "id": "OIInVv-Sz3Yx",
        "outputId": "ad9c8811-8a49-471b-f894-d6c251367a23",
        "colab": {
          "base_uri": "https://localhost:8080/",
          "height": 118
        }
      },
      "source": [
        "# Define a 3 layer MLP 28*28 -> 512 -> 128 -> 10\n",
        "# CIFAR 3072 -> 512 -> 128 -> 10\n",
        "# CIFAR 3072 -> 1024 -> 512 -> 10\n",
        "# CIFAR 3072 -> 512 -> 256 -> 128 -> 10\n",
        "class MLP(torch.nn.Module):\n",
        "  def __init__(self, input_dim, output_dim):\n",
        "    super(MLP, self).__init__()\n",
        "    self.input_dim = input_dim\n",
        "    #Original network\n",
        "    self.fc1 = torch.nn.Linear(input_dim, 512)\n",
        "    self.fc2 = torch.nn.Linear(512, 128)\n",
        "    self.fc3 = torch.nn.Linear(128, output_dim)\n",
        "\n",
        "    # Experiment 1\n",
        "    # self.fc1 = torch.nn.Linear(input_dim, 1028)\n",
        "    # self.fc2 = torch.nn.Linear(1028, 512)\n",
        "    # self.fc3 = torch.nn.Linear(512, output_dim)\n",
        "\n",
        "    # Experiment 2\n",
        "    self.fc1 = torch.nn.Linear(input_dim, 512)\n",
        "    self.fc2 = torch.nn.Linear(512, 256)\n",
        "    self.fc3 = torch.nn.Linear(256, 128)\n",
        "    self.fc4 = torch.nn.Linear(128, output_dim)\n",
        "  \n",
        "  \n",
        "  def forward(self, x):\n",
        "    x = x.view(-1, self.input_dim)\n",
        "    output = F.relu(self.fc1(x))\n",
        "    output = F.relu(self.fc2(output))\n",
        "    output = F.relu(self.fc3(output))\n",
        "    return F.softmax(self.fc4(output))\n",
        "\n",
        "print(MLP(784, 10))"
      ],
      "execution_count": 7,
      "outputs": [
        {
          "output_type": "stream",
          "text": [
            "MLP(\n",
            "  (fc1): Linear(in_features=784, out_features=512, bias=True)\n",
            "  (fc2): Linear(in_features=512, out_features=256, bias=True)\n",
            "  (fc3): Linear(in_features=256, out_features=128, bias=True)\n",
            "  (fc4): Linear(in_features=128, out_features=10, bias=True)\n",
            ")\n"
          ],
          "name": "stdout"
        }
      ]
    },
    {
      "cell_type": "markdown",
      "metadata": {
        "id": "AFlNFguZWW2U"
      },
      "source": [
        "## CNN\n",
        "The parameter is the type of dataset. It will affact the number of \n",
        "channels of the input layer and also the size of the first fully connected\n",
        "layer.\n",
        "\n",
        "I have done two experiments on the structure.\n",
        "\n",
        "* Two convolution layers and two fc layers.\n",
        "* Two convolution layers and three fc layers."
      ]
    },
    {
      "cell_type": "code",
      "metadata": {
        "id": "3UxrXXUa0EOk",
        "outputId": "fd2a2658-e484-4c28-ccde-509f7fb4b5d7",
        "colab": {
          "base_uri": "https://localhost:8080/",
          "height": 134
        }
      },
      "source": [
        "class Net(torch.nn.Module):\n",
        "  def __init__(self, dataset='mnist'):\n",
        "    super(Net, self).__init__()\n",
        "    self.dataset = dataset\n",
        "\n",
        "\n",
        "    # The original network\n",
        "    # if dataset=='mnist':\n",
        "    #   self.conv1 = torch.nn.Conv2d(1, 10, 5)\n",
        "    #   self.fc1 = torch.nn.Linear(320, 50)\n",
        "    # else: \n",
        "    #   self.conv1 = torch.nn.Conv2d(3, 10, 5)\n",
        "    #   self.fc1 = torch.nn.Linear(500, 50)\n",
        "    # self.conv2 = torch.nn.Conv2d(10, 20, 5)\n",
        "    # self.fc2 = torch.nn.Linear(50, 10)\n",
        "\n",
        "\n",
        "    # Experiment 1: add one more fc layer\n",
        "    if dataset=='mnist':\n",
        "      self.conv1 = torch.nn.Conv2d(1, 10, 5)\n",
        "      self.fc1 = torch.nn.Linear(320, 50)\n",
        "    else: \n",
        "      self.conv1 = torch.nn.Conv2d(3, 10, 5)\n",
        "      self.fc1 = torch.nn.Linear(500, 250)\n",
        "    self.conv2 = torch.nn.Conv2d(10, 20, 5)\n",
        "    self.fc2 = torch.nn.Linear(250, 50)\n",
        "    self.fc3 = torch.nn.Linear(50, 10)\n",
        "  \n",
        "\n",
        "  def forward(self, x):\n",
        "    x = F.relu(F.max_pool2d(self.conv1(x), 2))\n",
        "    x = F.relu(F.max_pool2d(self.conv2(x), 2))\n",
        "    if self.dataset=='mnist':\n",
        "      x = x.view(-1, 320)\n",
        "    else:\n",
        "      x = x.view(-1, 500)\n",
        "    x = F.relu(self.fc1(x))\n",
        "    x = F.relu(self.fc2(x))\n",
        "    x = self.fc3(x)\n",
        "    return F.softmax(x)\n",
        "\n",
        "print(Net())"
      ],
      "execution_count": 8,
      "outputs": [
        {
          "output_type": "stream",
          "text": [
            "Net(\n",
            "  (conv1): Conv2d(1, 10, kernel_size=(5, 5), stride=(1, 1))\n",
            "  (fc1): Linear(in_features=320, out_features=50, bias=True)\n",
            "  (conv2): Conv2d(10, 20, kernel_size=(5, 5), stride=(1, 1))\n",
            "  (fc2): Linear(in_features=250, out_features=50, bias=True)\n",
            "  (fc3): Linear(in_features=50, out_features=10, bias=True)\n",
            ")\n"
          ],
          "name": "stdout"
        }
      ]
    },
    {
      "cell_type": "markdown",
      "metadata": {
        "id": "iVypsIA6coWy"
      },
      "source": [
        "# The main class ***play***\n",
        "This class is the main class to play with all the networks and \n",
        "parameters. \n",
        "\n",
        "The parameters needed to initialize the class is:\n",
        "* dataset - the type of dataset\n",
        "* method - the model's name\n",
        "* epochs - the number of epochs\n",
        "\n",
        "There are two functions to load dataset -- ***load_data_mnist()*** and ***load_data_cifar()***. The first one is to load MNIST and the second one is to load CIFAR-10. \n",
        "\n",
        "The following function ***imshow()*** is to visualize the examples in MNIST.\n",
        "\n",
        "The next one is ***define_constants()***. It initializes some variables of the model based on the model we want to use, like input size, learning rate, the model, criterion and optimizer.\n",
        "\n",
        "After that is the learning and testing function, ***train()***. It iterate all the training data batches for *epochs* times, do the learning things, compute the loss and update the weights. Then in every 100 times, it will compute and collect the accuracy of the test data. \n",
        "\n",
        "Then plot the figures of the loss and accuracy after all the training."
      ]
    },
    {
      "cell_type": "code",
      "metadata": {
        "id": "amWM1G7N2UPX"
      },
      "source": [
        "class play:\n",
        "  def __init__(self, dataset, method, epochs=5):\n",
        "    self.method = method\n",
        "    self.batch_size = 100\n",
        "    self.dataset = dataset\n",
        "    self.epochs = epochs\n",
        "    if dataset == 'mnist':\n",
        "      self.load_data_mnist()\n",
        "    else:\n",
        "      self.load_data_cifar()\n",
        "    self.define_constants(method)\n",
        "\n",
        "\n",
        "  def load_data_mnist(self):\n",
        "    # Each image is 28*28, the training set contains 60000 examples, and the test set 10000 examples.\n",
        "    self.train_dataset = dsets.MNIST(root='./MNIST', train=True, transform=transforms.ToTensor(), download=True)\n",
        "    self.test_dataset = dsets.MNIST(root='./MNIST', train=False, transform=transforms.ToTensor())\n",
        "    self.train_loader = torch.utils.data.DataLoader(dataset=self.train_dataset, batch_size=self.batch_size, shuffle=True)\n",
        "    self.test_loader = torch.utils.data.DataLoader(dataset=self.test_dataset, batch_size=self.batch_size, shuffle=False)\n",
        "  \n",
        "\n",
        "  def load_data_cifar(self):\n",
        "    self.train_dataset = torchvision.datasets.CIFAR10(root='./cifar', train=True, transform=transforms.ToTensor(), download=True)\n",
        "    self.test_dataset = torchvision.datasets.CIFAR10(root='./cifar', train=False, transform=transforms.ToTensor(), download=True)\n",
        "    self.train_loader = torch.utils.data.DataLoader(dataset=self.train_dataset, batch_size=self.batch_size, shuffle=True)\n",
        "    self.test_loader = torch.utils.data.DataLoader(dataset=self.test_dataset, batch_size=self.batch_size, shuffle=False)\n",
        "\n",
        "\n",
        "  \n",
        "  def imshow(self):\n",
        "    # get some random training images\n",
        "    dataiter = iter(self.train_loader)\n",
        "    images, labels = dataiter.next()\n",
        "\n",
        "    img = torchvision.utils.make_grid(images) / 2 + 0.5     # unnormalize\n",
        "    print(type(img))\n",
        "    print(img.shape)\n",
        "    img = img[0:4]\n",
        "    npimg = img.numpy()\n",
        "    plt.imshow(np.transpose(npimg, (1, 2, 0)))\n",
        "    plt.show()\n",
        "\n",
        "    # print labels\n",
        "    print(' '.join('%5s' % labels[j].item() for j in range(4)))\n",
        "\n",
        "\n",
        "  def define_constants(self, method):\n",
        "    #Define constants\n",
        "    if self.dataset == 'mnist':\n",
        "      self.input_dim = 784\n",
        "    else: self.input_dim = 3072\n",
        "\n",
        "    self.output_dim = 10\n",
        "    if method == 'lr':\n",
        "      lr_rate = 0.001\n",
        "      self.model = LogisticRegression(self.input_dim, self.output_dim).cuda()\n",
        "    elif method == 'mlp':\n",
        "      lr_rate = 0.1\n",
        "      self.model = MLP(self.input_dim, self.output_dim).cuda()\n",
        "    elif method == 'cnn':\n",
        "      lr_rate = 0.1\n",
        "      self.model = Net(self.dataset).cuda()\n",
        "    self.criterion = torch.nn.CrossEntropyLoss().cuda() # computes softmax and then the cross entropy\n",
        "    self.optimizer = torch.optim.SGD(self.model.parameters(), lr=lr_rate)\n",
        "\n",
        "  \n",
        "  def train(self):\n",
        "    iter = 0\n",
        "    l = []\n",
        "    a = []\n",
        "    for epoch in range(int(self.epochs)):\n",
        "      l_temp = []\n",
        "      for i, (images, labels) in enumerate(self.train_loader):\n",
        "        if not self.method == 'cnn':\n",
        "          images = Variable(images.view(-1, self.input_dim))\n",
        "        images = images.cuda()\n",
        "        labels = Variable(labels).cuda()\n",
        "            \n",
        "        # Train and update the weights\n",
        "        self.optimizer.zero_grad()\n",
        "        outputs = self.model(images).cuda()\n",
        "        loss = self.criterion(outputs, labels)\n",
        "        loss.backward()\n",
        "        self.optimizer.step()\n",
        "        l_temp.append(loss.item())\n",
        "            \n",
        "        # For every 100 iterations, compute and collect the accuracy with testing data\n",
        "        iter+=1\n",
        "        if iter%100==0:\n",
        "          # calculate Accuracy\n",
        "          correct = 0\n",
        "          total = 0\n",
        "          for images, labels in self.test_loader:\n",
        "            if not self.method == 'cnn':\n",
        "              images = Variable(images.view(-1, self.input_dim))\n",
        "            images = images.cuda()\n",
        "            outputs = self.model(images).cuda()\n",
        "            _, predicted = torch.max(outputs.data, 1)\n",
        "            predicted = predicted.cuda()\n",
        "            total += labels.size(0)\n",
        "            # for gpu, bring the predicted and labels back to cpu fro python operations to work\n",
        "            correct+= (predicted == labels.cuda()).sum()\n",
        "          accuracy = 100 * correct//total\n",
        "          a.append(accuracy.item())\n",
        "          # print(\"Iteration: {}. Loss: {}. Accuracy: {}.\".format(iter, loss.item(), accuracy))\n",
        "        print(\"Iteration: {}. Loss: {}. Accuracy: {}.\".format(iter, loss.item(), accuracy))\n",
        "        l.append(sum(l_temp)/len(l_temp))\n",
        "    \n",
        "    # Plot the figure of the loss and accuracy\n",
        "    fig, ax = plt.subplots()\n",
        "    sns.lineplot(x=range(len(l)), y=l, color='blue', label = 'Loss', ax=ax)\n",
        "    plt.title(\"Loss of {}\".format(self.method))\n",
        "    plt.xlabel(\"iterate\")\n",
        "    plt.ylabel(\"Loss\")  \n",
        "        \n",
        "    fig, ax = plt.subplots()\n",
        "    sns.lineplot(x=range(len(a)), y=a, color='blue', label = 'Accuracy', ax=ax)\n",
        "    plt.title(\"Accuracy of {}\".format(self.method))\n",
        "    plt.xlabel(\"iteration(*100)\")\n",
        "    plt.ylabel(\"Accuracy\")\n",
        "  \n",
        "\n",
        "  # Visualize the kernel of CNN\n",
        "  def show_kernel(self):\n",
        "    w1 = self.model.conv1.weight\n",
        "    print(w1.size())\n",
        "    w1_np = w1.cpu().detach().numpy()\n",
        "    print(w1_np[0][0].shape)\n",
        "    for i in range(w1_np.shape[0]):\n",
        "      plt.imshow(w1_np[i][0])\n",
        "      plt.show()"
      ],
      "execution_count": 9,
      "outputs": []
    },
    {
      "cell_type": "markdown",
      "metadata": {
        "id": "yzmhBnIiAd7o"
      },
      "source": [
        "# Playing part\n",
        "This part is the test code and some results of my exploration. You can add more code blocks to play with the class ***play()*** and the parameters."
      ]
    },
    {
      "cell_type": "code",
      "metadata": {
        "id": "8TDht9BAIMHP",
        "outputId": "f7aa7653-01a5-42a2-e75b-b9aee3baa44f",
        "colab": {
          "base_uri": "https://localhost:8080/",
          "height": 758
        }
      },
      "source": [
        "cnn1 = play(dataset='mnist', method='cnn', epochs=10)\n",
        "cnn1.train()"
      ],
      "execution_count": 25,
      "outputs": [
        {
          "output_type": "stream",
          "text": [
            "/usr/local/lib/python3.6/dist-packages/ipykernel_launcher.py:24: UserWarning: Implicit dimension choice for softmax has been deprecated. Change the call to include dim=X as an argument.\n"
          ],
          "name": "stderr"
        },
        {
          "output_type": "stream",
          "text": [
            "Iteration: 600. Loss: 1.6581964492797852. Accuracy: 86.\n",
            "Iteration: 1200. Loss: 1.5406537055969238. Accuracy: 94.\n",
            "Iteration: 1800. Loss: 1.4948785305023193. Accuracy: 95.\n",
            "Iteration: 2400. Loss: 1.4901225566864014. Accuracy: 96.\n",
            "Iteration: 3000. Loss: 1.4799138307571411. Accuracy: 97.\n",
            "Iteration: 3600. Loss: 1.506263017654419. Accuracy: 97.\n",
            "Iteration: 4200. Loss: 1.5303776264190674. Accuracy: 97.\n",
            "Iteration: 4800. Loss: 1.492274284362793. Accuracy: 97.\n",
            "Iteration: 5400. Loss: 1.4927630424499512. Accuracy: 97.\n",
            "Iteration: 6000. Loss: 1.4757466316223145. Accuracy: 98.\n"
          ],
          "name": "stdout"
        },
        {
          "output_type": "display_data",
          "data": {
            "image/png": "[encoded data removed]",
            "text/plain": [
              "<Figure size 432x288 with 1 Axes>"
            ]
          },
          "metadata": {
            "tags": [],
            "needs_background": "light"
          }
        },
        {
          "output_type": "display_data",
          "data": {
            "image/png": "[encoded data removed]",
            "text/plain": [
              "<Figure size 432x288 with 1 Axes>"
            ]
          },
          "metadata": {
            "tags": [],
            "needs_background": "light"
          }
        }
      ]
    },
    {
      "cell_type": "code",
      "metadata": {
        "id": "JFds05mgc1nF",
        "outputId": "04a88f20-f922-4d83-8367-2d6a9cd19629",
        "colab": {
          "base_uri": "https://localhost:8080/",
          "height": 1000
        }
      },
      "source": [
        "smr2 = play(dataset='cifar', method='lr', epochs=200)\n",
        "smr2.train()"
      ],
      "execution_count": null,
      "outputs": [
        {
          "output_type": "stream",
          "text": [
            "Files already downloaded and verified\n",
            "Files already downloaded and verified\n",
            "Iteration: 500. Loss: 2.1222457885742188. Accuracy: 28.\n",
            "Iteration: 1000. Loss: 1.9725760221481323. Accuracy: 31.\n",
            "Iteration: 1500. Loss: 2.017047643661499. Accuracy: 33.\n",
            "Iteration: 2000. Loss: 2.0040371417999268. Accuracy: 33.\n",
            "Iteration: 2500. Loss: 2.019911289215088. Accuracy: 34.\n",
            "Iteration: 3000. Loss: 1.9115569591522217. Accuracy: 35.\n",
            "Iteration: 3500. Loss: 1.8816978931427002. Accuracy: 35.\n",
            "Iteration: 4000. Loss: 1.8247560262680054. Accuracy: 35.\n",
            "Iteration: 4500. Loss: 1.929039478302002. Accuracy: 35.\n",
            "Iteration: 5000. Loss: 1.8258510828018188. Accuracy: 36.\n",
            "Iteration: 5500. Loss: 1.8018908500671387. Accuracy: 36.\n",
            "Iteration: 6000. Loss: 1.7542357444763184. Accuracy: 36.\n",
            "Iteration: 6500. Loss: 1.917433500289917. Accuracy: 36.\n",
            "Iteration: 7000. Loss: 1.7349516153335571. Accuracy: 37.\n",
            "Iteration: 7500. Loss: 1.8130934238433838. Accuracy: 37.\n",
            "Iteration: 8000. Loss: 1.8318109512329102. Accuracy: 37.\n",
            "Iteration: 8500. Loss: 1.8340727090835571. Accuracy: 37.\n",
            "Iteration: 9000. Loss: 1.708616018295288. Accuracy: 37.\n",
            "Iteration: 9500. Loss: 1.8252780437469482. Accuracy: 37.\n",
            "Iteration: 10000. Loss: 1.9241018295288086. Accuracy: 37.\n",
            "Iteration: 10500. Loss: 1.7933083772659302. Accuracy: 37.\n",
            "Iteration: 11000. Loss: 1.971171259880066. Accuracy: 37.\n",
            "Iteration: 11500. Loss: 1.8510162830352783. Accuracy: 37.\n",
            "Iteration: 12000. Loss: 1.9262713193893433. Accuracy: 37.\n",
            "Iteration: 12500. Loss: 1.8001114130020142. Accuracy: 38.\n",
            "Iteration: 13000. Loss: 1.720007300376892. Accuracy: 38.\n",
            "Iteration: 13500. Loss: 1.8646775484085083. Accuracy: 37.\n",
            "Iteration: 14000. Loss: 1.843268632888794. Accuracy: 38.\n",
            "Iteration: 14500. Loss: 1.8313651084899902. Accuracy: 38.\n",
            "Iteration: 15000. Loss: 1.7188242673873901. Accuracy: 38.\n",
            "Iteration: 15500. Loss: 1.7697231769561768. Accuracy: 38.\n",
            "Iteration: 16000. Loss: 1.7930335998535156. Accuracy: 38.\n",
            "Iteration: 16500. Loss: 1.662947654724121. Accuracy: 38.\n",
            "Iteration: 17000. Loss: 1.692692756652832. Accuracy: 38.\n",
            "Iteration: 17500. Loss: 1.6250832080841064. Accuracy: 38.\n",
            "Iteration: 18000. Loss: 1.6043553352355957. Accuracy: 38.\n",
            "Iteration: 18500. Loss: 1.7027627229690552. Accuracy: 38.\n",
            "Iteration: 19000. Loss: 1.770850419998169. Accuracy: 38.\n",
            "Iteration: 19500. Loss: 1.754611611366272. Accuracy: 39.\n",
            "Iteration: 20000. Loss: 1.770806908607483. Accuracy: 38.\n",
            "Iteration: 20500. Loss: 1.742721676826477. Accuracy: 39.\n",
            "Iteration: 21000. Loss: 1.7432126998901367. Accuracy: 38.\n",
            "Iteration: 21500. Loss: 1.7785392999649048. Accuracy: 39.\n",
            "Iteration: 22000. Loss: 1.6955753564834595. Accuracy: 38.\n",
            "Iteration: 22500. Loss: 1.6811652183532715. Accuracy: 39.\n",
            "Iteration: 23000. Loss: 1.6179920434951782. Accuracy: 39.\n",
            "Iteration: 23500. Loss: 1.8412318229675293. Accuracy: 39.\n",
            "Iteration: 24000. Loss: 1.776106357574463. Accuracy: 39.\n",
            "Iteration: 24500. Loss: 1.7852258682250977. Accuracy: 39.\n",
            "Iteration: 25000. Loss: 1.7027419805526733. Accuracy: 39.\n",
            "Iteration: 25500. Loss: 1.8535221815109253. Accuracy: 39.\n",
            "Iteration: 26000. Loss: 1.7378236055374146. Accuracy: 39.\n",
            "Iteration: 26500. Loss: 1.8497048616409302. Accuracy: 39.\n",
            "Iteration: 27000. Loss: 1.762529730796814. Accuracy: 39.\n",
            "Iteration: 27500. Loss: 1.6398494243621826. Accuracy: 39.\n",
            "Iteration: 28000. Loss: 1.7428829669952393. Accuracy: 39.\n",
            "Iteration: 28500. Loss: 1.7351064682006836. Accuracy: 39.\n",
            "Iteration: 29000. Loss: 1.649601936340332. Accuracy: 39.\n",
            "Iteration: 29500. Loss: 1.787753939628601. Accuracy: 39.\n",
            "Iteration: 30000. Loss: 1.8249773979187012. Accuracy: 39.\n",
            "Iteration: 30500. Loss: 1.7059543132781982. Accuracy: 39.\n",
            "Iteration: 31000. Loss: 1.6074094772338867. Accuracy: 39.\n",
            "Iteration: 31500. Loss: 1.6865936517715454. Accuracy: 39.\n",
            "Iteration: 32000. Loss: 1.9004275798797607. Accuracy: 39.\n",
            "Iteration: 32500. Loss: 1.6927577257156372. Accuracy: 39.\n",
            "Iteration: 33000. Loss: 1.8236514329910278. Accuracy: 39.\n",
            "Iteration: 33500. Loss: 1.6722993850708008. Accuracy: 39.\n",
            "Iteration: 34000. Loss: 1.7737432718276978. Accuracy: 39.\n",
            "Iteration: 34500. Loss: 1.6453787088394165. Accuracy: 39.\n",
            "Iteration: 35000. Loss: 1.688812255859375. Accuracy: 39.\n",
            "Iteration: 35500. Loss: 1.8375191688537598. Accuracy: 39.\n",
            "Iteration: 36000. Loss: 1.7035022974014282. Accuracy: 39.\n",
            "Iteration: 36500. Loss: 1.6605224609375. Accuracy: 39.\n",
            "Iteration: 37000. Loss: 1.5529565811157227. Accuracy: 39.\n",
            "Iteration: 37500. Loss: 1.5849685668945312. Accuracy: 39.\n",
            "Iteration: 38000. Loss: 1.6377912759780884. Accuracy: 39.\n",
            "Iteration: 38500. Loss: 1.7229282855987549. Accuracy: 39.\n",
            "Iteration: 39000. Loss: 1.7546290159225464. Accuracy: 40.\n",
            "Iteration: 39500. Loss: 1.7507867813110352. Accuracy: 40.\n",
            "Iteration: 40000. Loss: 1.6361504793167114. Accuracy: 39.\n",
            "Iteration: 40500. Loss: 1.6621397733688354. Accuracy: 39.\n",
            "Iteration: 41000. Loss: 1.7269434928894043. Accuracy: 39.\n",
            "Iteration: 41500. Loss: 1.8020297288894653. Accuracy: 40.\n",
            "Iteration: 42000. Loss: 1.666981816291809. Accuracy: 39.\n",
            "Iteration: 42500. Loss: 1.7537001371383667. Accuracy: 39.\n",
            "Iteration: 43000. Loss: 1.5869789123535156. Accuracy: 39.\n",
            "Iteration: 43500. Loss: 1.725602626800537. Accuracy: 39.\n",
            "Iteration: 44000. Loss: 1.7849059104919434. Accuracy: 39.\n",
            "Iteration: 44500. Loss: 1.7714542150497437. Accuracy: 39.\n",
            "Iteration: 45000. Loss: 1.7486268281936646. Accuracy: 40.\n",
            "Iteration: 45500. Loss: 1.7041760683059692. Accuracy: 39.\n",
            "Iteration: 46000. Loss: 1.6595097780227661. Accuracy: 40.\n",
            "Iteration: 46500. Loss: 1.5997766256332397. Accuracy: 40.\n",
            "Iteration: 47000. Loss: 1.6719671487808228. Accuracy: 40.\n",
            "Iteration: 47500. Loss: 1.618607521057129. Accuracy: 40.\n",
            "Iteration: 48000. Loss: 1.7445071935653687. Accuracy: 40.\n",
            "Iteration: 48500. Loss: 1.7090306282043457. Accuracy: 40.\n",
            "Iteration: 49000. Loss: 1.740594744682312. Accuracy: 40.\n",
            "Iteration: 49500. Loss: 1.8706037998199463. Accuracy: 39.\n",
            "Iteration: 50000. Loss: 1.8286205530166626. Accuracy: 40.\n",
            "Iteration: 50500. Loss: 1.9429278373718262. Accuracy: 39.\n",
            "Iteration: 51000. Loss: 1.8131800889968872. Accuracy: 40.\n",
            "Iteration: 51500. Loss: 1.5779259204864502. Accuracy: 40.\n",
            "Iteration: 52000. Loss: 1.7503756284713745. Accuracy: 40.\n",
            "Iteration: 52500. Loss: 1.6764427423477173. Accuracy: 40.\n",
            "Iteration: 53000. Loss: 1.651652216911316. Accuracy: 40.\n",
            "Iteration: 53500. Loss: 1.9142032861709595. Accuracy: 40.\n",
            "Iteration: 54000. Loss: 1.7190518379211426. Accuracy: 39.\n",
            "Iteration: 54500. Loss: 1.6874029636383057. Accuracy: 40.\n",
            "Iteration: 55000. Loss: 1.7535945177078247. Accuracy: 40.\n",
            "Iteration: 55500. Loss: 1.7178329229354858. Accuracy: 40.\n",
            "Iteration: 56000. Loss: 1.7450685501098633. Accuracy: 39.\n",
            "Iteration: 56500. Loss: 1.8502264022827148. Accuracy: 40.\n",
            "Iteration: 57000. Loss: 1.667435884475708. Accuracy: 40.\n",
            "Iteration: 57500. Loss: 1.6853681802749634. Accuracy: 40.\n",
            "Iteration: 58000. Loss: 1.8588110208511353. Accuracy: 40.\n",
            "Iteration: 58500. Loss: 1.5005782842636108. Accuracy: 40.\n",
            "Iteration: 59000. Loss: 1.766891598701477. Accuracy: 40.\n",
            "Iteration: 59500. Loss: 1.7139021158218384. Accuracy: 40.\n",
            "Iteration: 60000. Loss: 1.6733192205429077. Accuracy: 40.\n",
            "Iteration: 60500. Loss: 1.687569260597229. Accuracy: 40.\n",
            "Iteration: 61000. Loss: 1.5906673669815063. Accuracy: 40.\n",
            "Iteration: 61500. Loss: 1.793317437171936. Accuracy: 40.\n",
            "Iteration: 62000. Loss: 1.7007973194122314. Accuracy: 40.\n",
            "Iteration: 62500. Loss: 1.654673457145691. Accuracy: 40.\n",
            "Iteration: 63000. Loss: 1.6762775182724. Accuracy: 40.\n",
            "Iteration: 63500. Loss: 1.746003270149231. Accuracy: 40.\n",
            "Iteration: 64000. Loss: 1.766133427619934. Accuracy: 40.\n",
            "Iteration: 64500. Loss: 1.6410101652145386. Accuracy: 40.\n",
            "Iteration: 65000. Loss: 1.5858960151672363. Accuracy: 40.\n",
            "Iteration: 65500. Loss: 1.817543625831604. Accuracy: 40.\n",
            "Iteration: 66000. Loss: 1.6442444324493408. Accuracy: 40.\n",
            "Iteration: 66500. Loss: 1.9477005004882812. Accuracy: 40.\n",
            "Iteration: 67000. Loss: 1.721398115158081. Accuracy: 40.\n",
            "Iteration: 67500. Loss: 1.674473762512207. Accuracy: 40.\n",
            "Iteration: 68000. Loss: 1.853846788406372. Accuracy: 40.\n",
            "Iteration: 68500. Loss: 1.724408745765686. Accuracy: 40.\n",
            "Iteration: 69000. Loss: 1.6103651523590088. Accuracy: 40.\n",
            "Iteration: 69500. Loss: 1.5029821395874023. Accuracy: 40.\n",
            "Iteration: 70000. Loss: 1.666964054107666. Accuracy: 40.\n",
            "Iteration: 70500. Loss: 1.864316463470459. Accuracy: 40.\n",
            "Iteration: 71000. Loss: 2.0154945850372314. Accuracy: 40.\n",
            "Iteration: 71500. Loss: 1.6895142793655396. Accuracy: 40.\n",
            "Iteration: 72000. Loss: 1.8202651739120483. Accuracy: 40.\n",
            "Iteration: 72500. Loss: 1.7082284688949585. Accuracy: 40.\n",
            "Iteration: 73000. Loss: 1.793918490409851. Accuracy: 40.\n",
            "Iteration: 73500. Loss: 1.6408783197402954. Accuracy: 40.\n",
            "Iteration: 74000. Loss: 1.8038220405578613. Accuracy: 40.\n",
            "Iteration: 74500. Loss: 1.6188212633132935. Accuracy: 40.\n",
            "Iteration: 75000. Loss: 1.6661280393600464. Accuracy: 40.\n",
            "Iteration: 75500. Loss: 1.8684027194976807. Accuracy: 40.\n",
            "Iteration: 76000. Loss: 1.6530776023864746. Accuracy: 40.\n",
            "Iteration: 76500. Loss: 1.717007040977478. Accuracy: 40.\n",
            "Iteration: 77000. Loss: 1.8020492792129517. Accuracy: 40.\n",
            "Iteration: 77500. Loss: 1.4736262559890747. Accuracy: 40.\n",
            "Iteration: 78000. Loss: 1.64158296585083. Accuracy: 40.\n",
            "Iteration: 78500. Loss: 1.6718077659606934. Accuracy: 40.\n",
            "Iteration: 79000. Loss: 1.5533827543258667. Accuracy: 40.\n",
            "Iteration: 79500. Loss: 1.6007812023162842. Accuracy: 40.\n",
            "Iteration: 80000. Loss: 1.6622565984725952. Accuracy: 40.\n",
            "Iteration: 80500. Loss: 1.7146098613739014. Accuracy: 40.\n",
            "Iteration: 81000. Loss: 1.6964521408081055. Accuracy: 40.\n",
            "Iteration: 81500. Loss: 1.4972976446151733. Accuracy: 40.\n",
            "Iteration: 82000. Loss: 1.6262421607971191. Accuracy: 40.\n",
            "Iteration: 82500. Loss: 1.6876137256622314. Accuracy: 40.\n",
            "Iteration: 83000. Loss: 1.8322265148162842. Accuracy: 40.\n",
            "Iteration: 83500. Loss: 1.6593942642211914. Accuracy: 40.\n",
            "Iteration: 84000. Loss: 1.824648141860962. Accuracy: 40.\n",
            "Iteration: 84500. Loss: 1.6285526752471924. Accuracy: 40.\n",
            "Iteration: 85000. Loss: 1.6948624849319458. Accuracy: 40.\n",
            "Iteration: 85500. Loss: 1.603204607963562. Accuracy: 40.\n",
            "Iteration: 86000. Loss: 1.724592924118042. Accuracy: 40.\n",
            "Iteration: 86500. Loss: 1.5951592922210693. Accuracy: 40.\n",
            "Iteration: 87000. Loss: 1.4696991443634033. Accuracy: 40.\n",
            "Iteration: 87500. Loss: 1.625335693359375. Accuracy: 40.\n",
            "Iteration: 88000. Loss: 1.8535571098327637. Accuracy: 40.\n",
            "Iteration: 88500. Loss: 1.6720573902130127. Accuracy: 40.\n",
            "Iteration: 89000. Loss: 1.75105881690979. Accuracy: 40.\n",
            "Iteration: 89500. Loss: 1.7159030437469482. Accuracy: 40.\n",
            "Iteration: 90000. Loss: 1.6283116340637207. Accuracy: 40.\n"
          ],
          "name": "stdout"
        }
      ]
    },
    {
      "cell_type": "code",
      "metadata": {
        "id": "i04INvcDMQ3d",
        "outputId": "735d1e6e-62d7-4435-8d5b-4b26497a1066",
        "colab": {
          "base_uri": "https://localhost:8080/",
          "height": 1000
        }
      },
      "source": [
        "mn = play(dataset='cifar', method='cnn', epochs=100)\n",
        "mn.train()"
      ],
      "execution_count": 9,
      "outputs": [
        {
          "output_type": "stream",
          "text": [
            "Files already downloaded and verified\n",
            "Files already downloaded and verified\n"
          ],
          "name": "stdout"
        },
        {
          "output_type": "stream",
          "text": [
            "/usr/local/lib/python3.6/dist-packages/ipykernel_launcher.py:38: UserWarning: Implicit dimension choice for softmax has been deprecated. Change the call to include dim=X as an argument.\n"
          ],
          "name": "stderr"
        },
        {
          "output_type": "stream",
          "text": [
            "Iteration: 500. Loss: 2.302243709564209. Accuracy: 9.\n",
            "Iteration: 1000. Loss: 2.3022301197052. Accuracy: 11.\n",
            "Iteration: 1500. Loss: 2.301547050476074. Accuracy: 17.\n",
            "Iteration: 2000. Loss: 2.2530274391174316. Accuracy: 21.\n",
            "Iteration: 2500. Loss: 2.203512668609619. Accuracy: 25.\n",
            "Iteration: 3000. Loss: 2.1403465270996094. Accuracy: 30.\n",
            "Iteration: 3500. Loss: 2.162090301513672. Accuracy: 31.\n",
            "Iteration: 4000. Loss: 2.0735480785369873. Accuracy: 34.\n",
            "Iteration: 4500. Loss: 2.050729274749756. Accuracy: 36.\n",
            "Iteration: 5000. Loss: 2.0655405521392822. Accuracy: 37.\n",
            "Iteration: 5500. Loss: 2.0567219257354736. Accuracy: 42.\n",
            "Iteration: 6000. Loss: 2.0201494693756104. Accuracy: 43.\n",
            "Iteration: 6500. Loss: 2.0876541137695312. Accuracy: 42.\n",
            "Iteration: 7000. Loss: 2.00262451171875. Accuracy: 45.\n",
            "Iteration: 7500. Loss: 2.0203957557678223. Accuracy: 46.\n",
            "Iteration: 8000. Loss: 1.994215726852417. Accuracy: 47.\n",
            "Iteration: 8500. Loss: 2.0016345977783203. Accuracy: 48.\n",
            "Iteration: 9000. Loss: 1.987473487854004. Accuracy: 49.\n",
            "Iteration: 9500. Loss: 1.9102888107299805. Accuracy: 51.\n",
            "Iteration: 10000. Loss: 1.9625837802886963. Accuracy: 49.\n",
            "Iteration: 10500. Loss: 1.9800043106079102. Accuracy: 52.\n",
            "Iteration: 11000. Loss: 1.9515860080718994. Accuracy: 54.\n",
            "Iteration: 11500. Loss: 1.9177874326705933. Accuracy: 51.\n",
            "Iteration: 12000. Loss: 1.8443418741226196. Accuracy: 54.\n",
            "Iteration: 12500. Loss: 1.919530987739563. Accuracy: 55.\n",
            "Iteration: 13000. Loss: 1.952939748764038. Accuracy: 54.\n",
            "Iteration: 13500. Loss: 1.8299572467803955. Accuracy: 56.\n",
            "Iteration: 14000. Loss: 1.7682642936706543. Accuracy: 56.\n",
            "Iteration: 14500. Loss: 1.8747483491897583. Accuracy: 56.\n",
            "Iteration: 15000. Loss: 1.9262630939483643. Accuracy: 58.\n",
            "Iteration: 15500. Loss: 1.827966570854187. Accuracy: 57.\n",
            "Iteration: 16000. Loss: 1.8113017082214355. Accuracy: 55.\n",
            "Iteration: 16500. Loss: 1.845248818397522. Accuracy: 58.\n",
            "Iteration: 17000. Loss: 1.7814019918441772. Accuracy: 58.\n",
            "Iteration: 17500. Loss: 1.854423999786377. Accuracy: 56.\n",
            "Iteration: 18000. Loss: 1.7822471857070923. Accuracy: 58.\n",
            "Iteration: 18500. Loss: 1.8948396444320679. Accuracy: 59.\n",
            "Iteration: 19000. Loss: 1.7985376119613647. Accuracy: 59.\n",
            "Iteration: 19500. Loss: 1.7933175563812256. Accuracy: 58.\n",
            "Iteration: 20000. Loss: 1.7341341972351074. Accuracy: 57.\n",
            "Iteration: 20500. Loss: 1.7732477188110352. Accuracy: 58.\n",
            "Iteration: 21000. Loss: 1.8398621082305908. Accuracy: 59.\n",
            "Iteration: 21500. Loss: 1.8557558059692383. Accuracy: 60.\n",
            "Iteration: 22000. Loss: 1.840146780014038. Accuracy: 59.\n",
            "Iteration: 22500. Loss: 1.7853341102600098. Accuracy: 59.\n",
            "Iteration: 23000. Loss: 1.7358756065368652. Accuracy: 59.\n",
            "Iteration: 23500. Loss: 1.7249441146850586. Accuracy: 59.\n",
            "Iteration: 24000. Loss: 1.7250672578811646. Accuracy: 60.\n",
            "Iteration: 24500. Loss: 1.7316397428512573. Accuracy: 60.\n",
            "Iteration: 25000. Loss: 1.7254343032836914. Accuracy: 61.\n",
            "Iteration: 25500. Loss: 1.7827765941619873. Accuracy: 59.\n",
            "Iteration: 26000. Loss: 1.7142014503479004. Accuracy: 60.\n",
            "Iteration: 26500. Loss: 1.8446359634399414. Accuracy: 59.\n",
            "Iteration: 27000. Loss: 1.728897213935852. Accuracy: 60.\n",
            "Iteration: 27500. Loss: 1.7741591930389404. Accuracy: 61.\n",
            "Iteration: 28000. Loss: 1.7287036180496216. Accuracy: 61.\n",
            "Iteration: 28500. Loss: 1.7255357503890991. Accuracy: 59.\n",
            "Iteration: 29000. Loss: 1.748991847038269. Accuracy: 60.\n",
            "Iteration: 29500. Loss: 1.6639351844787598. Accuracy: 60.\n",
            "Iteration: 30000. Loss: 1.6992666721343994. Accuracy: 60.\n",
            "Iteration: 30500. Loss: 1.7688254117965698. Accuracy: 61.\n",
            "Iteration: 31000. Loss: 1.705711007118225. Accuracy: 61.\n",
            "Iteration: 31500. Loss: 1.725173830986023. Accuracy: 60.\n",
            "Iteration: 32000. Loss: 1.6602163314819336. Accuracy: 60.\n",
            "Iteration: 32500. Loss: 1.767432451248169. Accuracy: 61.\n",
            "Iteration: 33000. Loss: 1.701493501663208. Accuracy: 60.\n",
            "Iteration: 33500. Loss: 1.7513726949691772. Accuracy: 60.\n",
            "Iteration: 34000. Loss: 1.6889736652374268. Accuracy: 61.\n",
            "Iteration: 34500. Loss: 1.7756763696670532. Accuracy: 61.\n",
            "Iteration: 35000. Loss: 1.76299250125885. Accuracy: 61.\n",
            "Iteration: 35500. Loss: 1.709458589553833. Accuracy: 60.\n",
            "Iteration: 36000. Loss: 1.652235984802246. Accuracy: 61.\n",
            "Iteration: 36500. Loss: 1.6990247964859009. Accuracy: 61.\n",
            "Iteration: 37000. Loss: 1.6623649597167969. Accuracy: 61.\n",
            "Iteration: 37500. Loss: 1.7032387256622314. Accuracy: 61.\n",
            "Iteration: 38000. Loss: 1.7932873964309692. Accuracy: 58.\n",
            "Iteration: 38500. Loss: 1.7017091512680054. Accuracy: 61.\n",
            "Iteration: 39000. Loss: 1.7340950965881348. Accuracy: 61.\n",
            "Iteration: 39500. Loss: 1.7526222467422485. Accuracy: 61.\n",
            "Iteration: 40000. Loss: 1.7173212766647339. Accuracy: 60.\n",
            "Iteration: 40500. Loss: 1.6779272556304932. Accuracy: 61.\n",
            "Iteration: 41000. Loss: 1.7824369668960571. Accuracy: 60.\n",
            "Iteration: 41500. Loss: 1.6500864028930664. Accuracy: 59.\n",
            "Iteration: 42000. Loss: 1.7112700939178467. Accuracy: 60.\n",
            "Iteration: 42500. Loss: 1.6728923320770264. Accuracy: 61.\n",
            "Iteration: 43000. Loss: 1.6742668151855469. Accuracy: 61.\n",
            "Iteration: 43500. Loss: 1.6923820972442627. Accuracy: 60.\n",
            "Iteration: 44000. Loss: 1.7096514701843262. Accuracy: 60.\n",
            "Iteration: 44500. Loss: 1.7895039319992065. Accuracy: 60.\n",
            "Iteration: 45000. Loss: 1.683107614517212. Accuracy: 61.\n",
            "Iteration: 45500. Loss: 1.7768946886062622. Accuracy: 61.\n",
            "Iteration: 46000. Loss: 1.7794357538223267. Accuracy: 59.\n",
            "Iteration: 46500. Loss: 1.7942144870758057. Accuracy: 59.\n",
            "Iteration: 47000. Loss: 1.690468192100525. Accuracy: 60.\n",
            "Iteration: 47500. Loss: 1.6917428970336914. Accuracy: 60.\n",
            "Iteration: 48000. Loss: 1.7298455238342285. Accuracy: 61.\n",
            "Iteration: 48500. Loss: 1.6722040176391602. Accuracy: 59.\n",
            "Iteration: 49000. Loss: 1.6854543685913086. Accuracy: 60.\n",
            "Iteration: 49500. Loss: 1.7439589500427246. Accuracy: 61.\n",
            "Iteration: 50000. Loss: 1.7449089288711548. Accuracy: 58.\n"
          ],
          "name": "stdout"
        },
        {
          "output_type": "display_data",
          "data": {
            "image/png": "[encoded data removed]",
            "text/plain": [
              "<Figure size 432x288 with 1 Axes>"
            ]
          },
          "metadata": {
            "tags": [],
            "needs_background": "light"
          }
        },
        {
          "output_type": "display_data",
          "data": {
            "image/png": "[encoded data removed]",
            "text/plain": [
              "<Figure size 432x288 with 1 Axes>"
            ]
          },
          "metadata": {
            "tags": [],
            "needs_background": "light"
          }
        }
      ]
    },
    {
      "cell_type": "code",
      "metadata": {
        "id": "uWDzKcbEa6No",
        "outputId": "2ef1c91a-cab4-40b4-f628-5a8b9b7bcba8",
        "colab": {
          "base_uri": "https://localhost:8080/",
          "height": 774
        }
      },
      "source": [
        "mn = play(dataset='mnist', method='mlp', epochs=10)\n",
        "mn.train()"
      ],
      "execution_count": 10,
      "outputs": [
        {
          "output_type": "stream",
          "text": [
            "/usr/local/lib/python3.6/dist-packages/ipykernel_launcher.py:15: UserWarning: Implicit dimension choice for softmax has been deprecated. Change the call to include dim=X as an argument.\n",
            "  from ipykernel import kernelapp as app\n"
          ],
          "name": "stderr"
        },
        {
          "output_type": "stream",
          "text": [
            "Iteration: 600. Loss: 1.8094494342803955. Accuracy: 78.\n",
            "Iteration: 1200. Loss: 1.7086894512176514. Accuracy: 83.\n",
            "Iteration: 1800. Loss: 1.5551140308380127. Accuracy: 90.\n",
            "Iteration: 2400. Loss: 1.5582963228225708. Accuracy: 91.\n",
            "Iteration: 3000. Loss: 1.5596327781677246. Accuracy: 92.\n",
            "Iteration: 3600. Loss: 1.5538356304168701. Accuracy: 92.\n",
            "Iteration: 4200. Loss: 1.5420411825180054. Accuracy: 92.\n",
            "Iteration: 4800. Loss: 1.4877322912216187. Accuracy: 93.\n",
            "Iteration: 5400. Loss: 1.521370530128479. Accuracy: 94.\n",
            "Iteration: 6000. Loss: 1.520586371421814. Accuracy: 94.\n"
          ],
          "name": "stdout"
        },
        {
          "output_type": "display_data",
          "data": {
            "image/png": "[encoded data removed]",
            "text/plain": [
              "<Figure size 432x288 with 1 Axes>"
            ]
          },
          "metadata": {
            "tags": [],
            "needs_background": "light"
          }
        },
        {
          "output_type": "display_data",
          "data": {
            "image/png": "[encoded data removed]",
            "text/plain": [
              "<Figure size 432x288 with 1 Axes>"
            ]
          },
          "metadata": {
            "tags": [],
            "needs_background": "light"
          }
        }
      ]
    },
    {
      "cell_type": "code",
      "metadata": {
        "id": "5U3IkhONWxAQ",
        "outputId": "ff7a1d5f-49e7-444f-ce6b-6399277153e4",
        "colab": {
          "base_uri": "https://localhost:8080/",
          "height": 1000
        }
      },
      "source": [
        "mn = play(dataset='cifar', method='mlp', epochs=100)\n",
        "mn.train()"
      ],
      "execution_count": 13,
      "outputs": [
        {
          "output_type": "stream",
          "text": [
            "Files already downloaded and verified\n",
            "Files already downloaded and verified\n"
          ],
          "name": "stdout"
        },
        {
          "output_type": "stream",
          "text": [
            "/usr/local/lib/python3.6/dist-packages/ipykernel_launcher.py:18: UserWarning: Implicit dimension choice for softmax has been deprecated. Change the call to include dim=X as an argument.\n"
          ],
          "name": "stderr"
        },
        {
          "output_type": "stream",
          "text": [
            "Iteration: 500. Loss: 2.185699462890625. Accuracy: 25.\n",
            "Iteration: 1000. Loss: 2.1518900394439697. Accuracy: 30.\n",
            "Iteration: 1500. Loss: 2.129945755004883. Accuracy: 33.\n",
            "Iteration: 2000. Loss: 2.103560209274292. Accuracy: 35.\n",
            "Iteration: 2500. Loss: 2.07816219329834. Accuracy: 37.\n",
            "Iteration: 3000. Loss: 2.0806028842926025. Accuracy: 34.\n",
            "Iteration: 3500. Loss: 2.1045339107513428. Accuracy: 38.\n",
            "Iteration: 4000. Loss: 2.03104305267334. Accuracy: 39.\n",
            "Iteration: 4500. Loss: 2.037970542907715. Accuracy: 40.\n",
            "Iteration: 5000. Loss: 2.1087584495544434. Accuracy: 40.\n",
            "Iteration: 5500. Loss: 2.0761237144470215. Accuracy: 40.\n",
            "Iteration: 6000. Loss: 1.956323504447937. Accuracy: 42.\n",
            "Iteration: 6500. Loss: 2.085827350616455. Accuracy: 39.\n",
            "Iteration: 7000. Loss: 2.0826635360717773. Accuracy: 41.\n",
            "Iteration: 7500. Loss: 1.9102206230163574. Accuracy: 44.\n",
            "Iteration: 8000. Loss: 2.0302085876464844. Accuracy: 43.\n",
            "Iteration: 8500. Loss: 1.9751476049423218. Accuracy: 45.\n",
            "Iteration: 9000. Loss: 2.0056233406066895. Accuracy: 43.\n",
            "Iteration: 9500. Loss: 1.9817733764648438. Accuracy: 44.\n",
            "Iteration: 10000. Loss: 2.00528883934021. Accuracy: 46.\n",
            "Iteration: 10500. Loss: 2.0109729766845703. Accuracy: 45.\n",
            "Iteration: 11000. Loss: 1.9098602533340454. Accuracy: 46.\n",
            "Iteration: 11500. Loss: 1.994928002357483. Accuracy: 45.\n",
            "Iteration: 12000. Loss: 1.9645146131515503. Accuracy: 46.\n",
            "Iteration: 12500. Loss: 1.9937186241149902. Accuracy: 46.\n",
            "Iteration: 13000. Loss: 1.999008297920227. Accuracy: 46.\n",
            "Iteration: 13500. Loss: 1.8745492696762085. Accuracy: 45.\n",
            "Iteration: 14000. Loss: 1.9635850191116333. Accuracy: 48.\n",
            "Iteration: 14500. Loss: 2.0123097896575928. Accuracy: 46.\n",
            "Iteration: 15000. Loss: 1.8965671062469482. Accuracy: 46.\n",
            "Iteration: 15500. Loss: 1.9694700241088867. Accuracy: 49.\n",
            "Iteration: 16000. Loss: 1.9917402267456055. Accuracy: 45.\n",
            "Iteration: 16500. Loss: 1.8964656591415405. Accuracy: 49.\n",
            "Iteration: 17000. Loss: 1.9430079460144043. Accuracy: 48.\n",
            "Iteration: 17500. Loss: 1.954358696937561. Accuracy: 47.\n",
            "Iteration: 18000. Loss: 1.892055630683899. Accuracy: 48.\n",
            "Iteration: 18500. Loss: 1.890809178352356. Accuracy: 48.\n",
            "Iteration: 19000. Loss: 1.9216994047164917. Accuracy: 48.\n",
            "Iteration: 19500. Loss: 1.9493480920791626. Accuracy: 48.\n",
            "Iteration: 20000. Loss: 1.928958773612976. Accuracy: 49.\n",
            "Iteration: 20500. Loss: 1.9644092321395874. Accuracy: 49.\n",
            "Iteration: 21000. Loss: 1.896713137626648. Accuracy: 48.\n",
            "Iteration: 21500. Loss: 1.9404268264770508. Accuracy: 47.\n",
            "Iteration: 22000. Loss: 1.8745298385620117. Accuracy: 48.\n",
            "Iteration: 22500. Loss: 1.8889379501342773. Accuracy: 50.\n",
            "Iteration: 23000. Loss: 1.8580384254455566. Accuracy: 49.\n",
            "Iteration: 23500. Loss: 1.8704664707183838. Accuracy: 49.\n",
            "Iteration: 24000. Loss: 1.8976833820343018. Accuracy: 49.\n",
            "Iteration: 24500. Loss: 1.9004167318344116. Accuracy: 50.\n",
            "Iteration: 25000. Loss: 1.8924012184143066. Accuracy: 49.\n",
            "Iteration: 25500. Loss: 1.9126168489456177. Accuracy: 48.\n",
            "Iteration: 26000. Loss: 1.923825979232788. Accuracy: 51.\n",
            "Iteration: 26500. Loss: 1.827073335647583. Accuracy: 51.\n",
            "Iteration: 27000. Loss: 1.881140947341919. Accuracy: 51.\n",
            "Iteration: 27500. Loss: 1.8859705924987793. Accuracy: 50.\n",
            "Iteration: 28000. Loss: 1.9555445909500122. Accuracy: 50.\n",
            "Iteration: 28500. Loss: 1.873011589050293. Accuracy: 51.\n",
            "Iteration: 29000. Loss: 1.8677135705947876. Accuracy: 51.\n",
            "Iteration: 29500. Loss: 1.9509021043777466. Accuracy: 50.\n",
            "Iteration: 30000. Loss: 1.8465007543563843. Accuracy: 50.\n",
            "Iteration: 30500. Loss: 1.9005779027938843. Accuracy: 50.\n",
            "Iteration: 31000. Loss: 1.7927348613739014. Accuracy: 51.\n",
            "Iteration: 31500. Loss: 1.8869365453720093. Accuracy: 50.\n",
            "Iteration: 32000. Loss: 1.896955132484436. Accuracy: 50.\n",
            "Iteration: 32500. Loss: 1.8978703022003174. Accuracy: 51.\n",
            "Iteration: 33000. Loss: 1.9267383813858032. Accuracy: 51.\n",
            "Iteration: 33500. Loss: 1.8576606512069702. Accuracy: 51.\n",
            "Iteration: 34000. Loss: 1.885710597038269. Accuracy: 51.\n",
            "Iteration: 34500. Loss: 1.8866157531738281. Accuracy: 52.\n",
            "Iteration: 35000. Loss: 1.8605064153671265. Accuracy: 51.\n",
            "Iteration: 35500. Loss: 1.892198085784912. Accuracy: 52.\n",
            "Iteration: 36000. Loss: 1.8574082851409912. Accuracy: 51.\n",
            "Iteration: 36500. Loss: 1.860996127128601. Accuracy: 51.\n",
            "Iteration: 37000. Loss: 1.7929936647415161. Accuracy: 51.\n",
            "Iteration: 37500. Loss: 1.853467583656311. Accuracy: 51.\n",
            "Iteration: 38000. Loss: 1.8335120677947998. Accuracy: 52.\n",
            "Iteration: 38500. Loss: 1.8000457286834717. Accuracy: 53.\n",
            "Iteration: 39000. Loss: 1.8480507135391235. Accuracy: 52.\n",
            "Iteration: 39500. Loss: 1.888384222984314. Accuracy: 53.\n",
            "Iteration: 40000. Loss: 1.8702415227890015. Accuracy: 51.\n",
            "Iteration: 40500. Loss: 1.7905203104019165. Accuracy: 53.\n",
            "Iteration: 41000. Loss: 1.7580112218856812. Accuracy: 52.\n",
            "Iteration: 41500. Loss: 1.8556512594223022. Accuracy: 53.\n",
            "Iteration: 42000. Loss: 1.8573133945465088. Accuracy: 53.\n",
            "Iteration: 42500. Loss: 1.8367706537246704. Accuracy: 52.\n",
            "Iteration: 43000. Loss: 1.8579754829406738. Accuracy: 52.\n",
            "Iteration: 43500. Loss: 1.8441582918167114. Accuracy: 51.\n",
            "Iteration: 44000. Loss: 1.8167163133621216. Accuracy: 52.\n",
            "Iteration: 44500. Loss: 1.794114112854004. Accuracy: 52.\n",
            "Iteration: 45000. Loss: 1.844947099685669. Accuracy: 50.\n",
            "Iteration: 45500. Loss: 1.7643377780914307. Accuracy: 52.\n",
            "Iteration: 46000. Loss: 1.7925136089324951. Accuracy: 53.\n",
            "Iteration: 46500. Loss: 1.7685376405715942. Accuracy: 52.\n",
            "Iteration: 47000. Loss: 1.8341635465621948. Accuracy: 54.\n",
            "Iteration: 47500. Loss: 1.7482317686080933. Accuracy: 54.\n",
            "Iteration: 48000. Loss: 1.803769588470459. Accuracy: 53.\n",
            "Iteration: 48500. Loss: 1.7781246900558472. Accuracy: 54.\n",
            "Iteration: 49000. Loss: 1.75429105758667. Accuracy: 53.\n",
            "Iteration: 49500. Loss: 1.682204246520996. Accuracy: 53.\n",
            "Iteration: 50000. Loss: 1.8497706651687622. Accuracy: 53.\n"
          ],
          "name": "stdout"
        },
        {
          "output_type": "display_data",
          "data": {
            "image/png": "[encoded data removed]",
            "text/plain": [
              "<Figure size 432x288 with 1 Axes>"
            ]
          },
          "metadata": {
            "tags": [],
            "needs_background": "light"
          }
        },
        {
          "output_type": "display_data",
          "data": {
            "image/png": "[encoded data removed]",
            "text/plain": [
              "<Figure size 432x288 with 1 Axes>"
            ]
          },
          "metadata": {
            "tags": [],
            "needs_background": "light"
          }
        }
      ]
    },
    {
      "cell_type": "code",
      "metadata": {
        "id": "2Stqi2lWgGQk",
        "outputId": "ed9cce13-8932-41c5-ad7d-3d47d332d448",
        "colab": {
          "base_uri": "https://localhost:8080/",
          "height": 1000
        }
      },
      "source": [
        "mlp2 = play(dataset='cifar', method='mlp', epochs=100)\n",
        "mlp2.train()"
      ],
      "execution_count": 14,
      "outputs": [
        {
          "output_type": "stream",
          "text": [
            "Files already downloaded and verified\n",
            "Files already downloaded and verified\n"
          ],
          "name": "stdout"
        },
        {
          "output_type": "stream",
          "text": [
            "/usr/local/lib/python3.6/dist-packages/ipykernel_launcher.py:20: UserWarning: Implicit dimension choice for softmax has been deprecated. Change the call to include dim=X as an argument.\n"
          ],
          "name": "stderr"
        },
        {
          "output_type": "stream",
          "text": [
            "Iteration: 500. Loss: 2.2831780910491943. Accuracy: 10.\n",
            "Iteration: 1000. Loss: 2.203763484954834. Accuracy: 25.\n",
            "Iteration: 1500. Loss: 2.1525187492370605. Accuracy: 28.\n",
            "Iteration: 2000. Loss: 2.1009469032287598. Accuracy: 30.\n",
            "Iteration: 2500. Loss: 2.1107420921325684. Accuracy: 33.\n",
            "Iteration: 3000. Loss: 2.194105386734009. Accuracy: 31.\n",
            "Iteration: 3500. Loss: 2.1311850547790527. Accuracy: 35.\n",
            "Iteration: 4000. Loss: 2.0433664321899414. Accuracy: 35.\n",
            "Iteration: 4500. Loss: 2.042879581451416. Accuracy: 38.\n",
            "Iteration: 5000. Loss: 2.034593343734741. Accuracy: 38.\n",
            "Iteration: 5500. Loss: 2.1169939041137695. Accuracy: 39.\n",
            "Iteration: 6000. Loss: 2.0581932067871094. Accuracy: 40.\n",
            "Iteration: 6500. Loss: 2.059532880783081. Accuracy: 40.\n",
            "Iteration: 7000. Loss: 2.0546205043792725. Accuracy: 38.\n",
            "Iteration: 7500. Loss: 2.006317615509033. Accuracy: 42.\n",
            "Iteration: 8000. Loss: 2.0592968463897705. Accuracy: 42.\n",
            "Iteration: 8500. Loss: 1.9758055210113525. Accuracy: 44.\n",
            "Iteration: 9000. Loss: 2.001112461090088. Accuracy: 42.\n",
            "Iteration: 9500. Loss: 1.9814651012420654. Accuracy: 41.\n",
            "Iteration: 10000. Loss: 2.032870292663574. Accuracy: 44.\n",
            "Iteration: 10500. Loss: 2.1372275352478027. Accuracy: 43.\n",
            "Iteration: 11000. Loss: 2.0508522987365723. Accuracy: 44.\n",
            "Iteration: 11500. Loss: 2.068622589111328. Accuracy: 42.\n",
            "Iteration: 12000. Loss: 2.081949234008789. Accuracy: 44.\n",
            "Iteration: 12500. Loss: 1.9856606721878052. Accuracy: 45.\n",
            "Iteration: 13000. Loss: 1.9675602912902832. Accuracy: 42.\n",
            "Iteration: 13500. Loss: 2.0067026615142822. Accuracy: 45.\n",
            "Iteration: 14000. Loss: 1.9946599006652832. Accuracy: 46.\n",
            "Iteration: 14500. Loss: 1.9875003099441528. Accuracy: 47.\n",
            "Iteration: 15000. Loss: 1.9440099000930786. Accuracy: 46.\n",
            "Iteration: 15500. Loss: 1.9790092706680298. Accuracy: 46.\n",
            "Iteration: 16000. Loss: 1.9008209705352783. Accuracy: 44.\n",
            "Iteration: 16500. Loss: 1.9509488344192505. Accuracy: 46.\n",
            "Iteration: 17000. Loss: 1.9556678533554077. Accuracy: 47.\n",
            "Iteration: 17500. Loss: 1.9918451309204102. Accuracy: 47.\n",
            "Iteration: 18000. Loss: 1.9561636447906494. Accuracy: 44.\n",
            "Iteration: 18500. Loss: 2.035583257675171. Accuracy: 45.\n",
            "Iteration: 19000. Loss: 2.003255605697632. Accuracy: 47.\n",
            "Iteration: 19500. Loss: 1.9664459228515625. Accuracy: 47.\n",
            "Iteration: 20000. Loss: 1.9189190864562988. Accuracy: 48.\n",
            "Iteration: 20500. Loss: 1.917116641998291. Accuracy: 48.\n",
            "Iteration: 21000. Loss: 1.9798386096954346. Accuracy: 47.\n",
            "Iteration: 21500. Loss: 1.8904587030410767. Accuracy: 48.\n",
            "Iteration: 22000. Loss: 1.9545888900756836. Accuracy: 48.\n",
            "Iteration: 22500. Loss: 1.881149411201477. Accuracy: 47.\n",
            "Iteration: 23000. Loss: 1.9589587450027466. Accuracy: 47.\n",
            "Iteration: 23500. Loss: 1.8820878267288208. Accuracy: 48.\n",
            "Iteration: 24000. Loss: 1.9645506143569946. Accuracy: 48.\n",
            "Iteration: 24500. Loss: 1.9691646099090576. Accuracy: 47.\n",
            "Iteration: 25000. Loss: 1.8769198656082153. Accuracy: 48.\n",
            "Iteration: 25500. Loss: 1.8881303071975708. Accuracy: 47.\n",
            "Iteration: 26000. Loss: 1.9645075798034668. Accuracy: 50.\n",
            "Iteration: 26500. Loss: 1.9399833679199219. Accuracy: 47.\n",
            "Iteration: 27000. Loss: 1.9109175205230713. Accuracy: 50.\n",
            "Iteration: 27500. Loss: 1.9733787775039673. Accuracy: 48.\n",
            "Iteration: 28000. Loss: 1.9632399082183838. Accuracy: 47.\n",
            "Iteration: 28500. Loss: 1.9592700004577637. Accuracy: 49.\n",
            "Iteration: 29000. Loss: 1.8921771049499512. Accuracy: 50.\n",
            "Iteration: 29500. Loss: 1.8782470226287842. Accuracy: 49.\n",
            "Iteration: 30000. Loss: 1.8810851573944092. Accuracy: 47.\n",
            "Iteration: 30500. Loss: 1.9225353002548218. Accuracy: 49.\n",
            "Iteration: 31000. Loss: 1.8582109212875366. Accuracy: 50.\n",
            "Iteration: 31500. Loss: 1.9597135782241821. Accuracy: 48.\n",
            "Iteration: 32000. Loss: 1.803621530532837. Accuracy: 50.\n",
            "Iteration: 32500. Loss: 1.867274522781372. Accuracy: 49.\n",
            "Iteration: 33000. Loss: 1.8409494161605835. Accuracy: 49.\n",
            "Iteration: 33500. Loss: 1.9419993162155151. Accuracy: 48.\n",
            "Iteration: 34000. Loss: 1.880892038345337. Accuracy: 51.\n",
            "Iteration: 34500. Loss: 1.9092239141464233. Accuracy: 51.\n",
            "Iteration: 35000. Loss: 1.8675717115402222. Accuracy: 51.\n",
            "Iteration: 35500. Loss: 1.8465274572372437. Accuracy: 50.\n",
            "Iteration: 36000. Loss: 1.8910566568374634. Accuracy: 51.\n",
            "Iteration: 36500. Loss: 1.7874445915222168. Accuracy: 49.\n",
            "Iteration: 37000. Loss: 1.8681061267852783. Accuracy: 50.\n",
            "Iteration: 37500. Loss: 1.8931066989898682. Accuracy: 52.\n",
            "Iteration: 38000. Loss: 1.9047996997833252. Accuracy: 49.\n",
            "Iteration: 38500. Loss: 1.8263758420944214. Accuracy: 51.\n",
            "Iteration: 39000. Loss: 1.7861506938934326. Accuracy: 50.\n",
            "Iteration: 39500. Loss: 1.8156384229660034. Accuracy: 51.\n",
            "Iteration: 40000. Loss: 1.8402312994003296. Accuracy: 52.\n",
            "Iteration: 40500. Loss: 1.9295899868011475. Accuracy: 52.\n",
            "Iteration: 41000. Loss: 1.830171823501587. Accuracy: 52.\n",
            "Iteration: 41500. Loss: 1.7895197868347168. Accuracy: 51.\n",
            "Iteration: 42000. Loss: 1.8168526887893677. Accuracy: 50.\n",
            "Iteration: 42500. Loss: 1.8481318950653076. Accuracy: 51.\n",
            "Iteration: 43000. Loss: 1.828913927078247. Accuracy: 51.\n",
            "Iteration: 43500. Loss: 1.8617026805877686. Accuracy: 49.\n",
            "Iteration: 44000. Loss: 1.9424248933792114. Accuracy: 51.\n",
            "Iteration: 44500. Loss: 1.851798415184021. Accuracy: 51.\n",
            "Iteration: 45000. Loss: 1.8506399393081665. Accuracy: 51.\n",
            "Iteration: 45500. Loss: 1.7903578281402588. Accuracy: 53.\n",
            "Iteration: 46000. Loss: 1.7872657775878906. Accuracy: 51.\n",
            "Iteration: 46500. Loss: 1.8684829473495483. Accuracy: 51.\n",
            "Iteration: 47000. Loss: 1.8227406740188599. Accuracy: 49.\n",
            "Iteration: 47500. Loss: 1.8907486200332642. Accuracy: 52.\n",
            "Iteration: 48000. Loss: 1.7955012321472168. Accuracy: 52.\n",
            "Iteration: 48500. Loss: 1.832868218421936. Accuracy: 51.\n",
            "Iteration: 49000. Loss: 1.8250093460083008. Accuracy: 52.\n",
            "Iteration: 49500. Loss: 1.8526747226715088. Accuracy: 52.\n",
            "Iteration: 50000. Loss: 1.7981353998184204. Accuracy: 51.\n"
          ],
          "name": "stdout"
        },
        {
          "output_type": "display_data",
          "data": {
            "image/png": "[encoded data removed]",
            "text/plain": [
              "<Figure size 432x288 with 1 Axes>"
            ]
          },
          "metadata": {
            "tags": [],
            "needs_background": "light"
          }
        },
        {
          "output_type": "display_data",
          "data": {
            "image/png": "[encoded data removed]",
            "text/plain": [
              "<Figure size 432x288 with 1 Axes>"
            ]
          },
          "metadata": {
            "tags": [],
            "needs_background": "light"
          }
        }
      ]
    }
  ]
}